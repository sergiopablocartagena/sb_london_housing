{
 "cells": [
  {
   "cell_type": "markdown",
   "id": "7d5aa0ba",
   "metadata": {},
   "source": [
    "# London Housing Case Study\n",
    "creator: Sergio P. Cartagena     \n",
    "cohort: SB May 2024"
   ]
  },
  {
   "cell_type": "markdown",
   "id": "be00d802",
   "metadata": {},
   "source": [
    "### Question to solve for case study:\n",
    "Which borough of London has seen the greatest average increase in housing prices over\n",
    "the (approximately) two decades covered by the dataset?"
   ]
  },
  {
   "cell_type": "markdown",
   "id": "1d3a8296",
   "metadata": {},
   "source": [
    "### 1. Sourcing and Loading "
   ]
  },
  {
   "cell_type": "markdown",
   "id": "ffb8aa81",
   "metadata": {},
   "source": [
    "#### 1.1. Importing Libraries"
   ]
  },
  {
   "cell_type": "code",
   "execution_count": 1,
   "id": "948fcf1a",
   "metadata": {},
   "outputs": [],
   "source": [
    "# Let's import the pandas, numpy libraries as pd, and np respectively. \n",
    "import pandas as pd\n",
    "import numpy as np\n",
    "\n",
    "# Load the pyplot collection of functions from matplotlib, as plt \n",
    "import matplotlib.pyplot as plt"
   ]
  },
  {
   "cell_type": "markdown",
   "id": "b893cd9f",
   "metadata": {},
   "source": [
    "#### 1.2.  Loading the data"
   ]
  },
  {
   "cell_type": "code",
   "execution_count": 2,
   "id": "b1c33fbc",
   "metadata": {},
   "outputs": [],
   "source": [
    "# First, make a variable called url_LondonHousePrices, and assign it the following link, enclosed in quotation-marks as a string:\n",
    "# https://data.london.gov.uk/download/uk-house-price-index/70ac0766-8902-4eb5-aab5-01951aaed773/UK%20House%20price%20index.xls\n",
    "\n",
    "url_LondonHousePrices = \"https://data.london.gov.uk/download/uk-house-price-index/70ac0766-8902-4eb5-aab5-01951aaed773/UK%20House%20price%20index.xls\"\n",
    "\n",
    "# The dataset we're interested in contains the Average prices of the houses, and is actually on a particular sheet of the Excel file. \n",
    "# As a result, we need to specify the sheet name in the read_excel() method.\n",
    "# Put this data into a variable called properties.  \n",
    "\n",
    "# [ref 1]\n",
    "# specifying engine to support 'xls' file type.\n",
    "properties = pd.read_excel(url_LondonHousePrices, sheet_name='Average price', engine='openpyxl', index_col= None)"
   ]
  },
  {
   "cell_type": "markdown",
   "id": "2c7f7f58",
   "metadata": {},
   "source": [
    "### 2. Cleaning, transforming, and visualizing"
   ]
  },
  {
   "cell_type": "markdown",
   "id": "610a707d",
   "metadata": {},
   "source": [
    "#### 2.1. Exploring your data "
   ]
  },
  {
   "cell_type": "code",
   "execution_count": 3,
   "id": "18fda428",
   "metadata": {},
   "outputs": [
    {
     "data": {
      "text/html": [
       "<div>\n",
       "<style scoped>\n",
       "    .dataframe tbody tr th:only-of-type {\n",
       "        vertical-align: middle;\n",
       "    }\n",
       "\n",
       "    .dataframe tbody tr th {\n",
       "        vertical-align: top;\n",
       "    }\n",
       "\n",
       "    .dataframe thead th {\n",
       "        text-align: right;\n",
       "    }\n",
       "</style>\n",
       "<table border=\"1\" class=\"dataframe\">\n",
       "  <thead>\n",
       "    <tr style=\"text-align: right;\">\n",
       "      <th></th>\n",
       "      <th>Unnamed: 0</th>\n",
       "      <th>City of London</th>\n",
       "      <th>Barking &amp; Dagenham</th>\n",
       "      <th>Barnet</th>\n",
       "      <th>Bexley</th>\n",
       "      <th>Brent</th>\n",
       "      <th>Bromley</th>\n",
       "      <th>Camden</th>\n",
       "      <th>Croydon</th>\n",
       "      <th>Ealing</th>\n",
       "      <th>...</th>\n",
       "      <th>NORTH WEST</th>\n",
       "      <th>YORKS &amp; THE HUMBER</th>\n",
       "      <th>EAST MIDLANDS</th>\n",
       "      <th>WEST MIDLANDS</th>\n",
       "      <th>EAST OF ENGLAND</th>\n",
       "      <th>LONDON</th>\n",
       "      <th>SOUTH EAST</th>\n",
       "      <th>SOUTH WEST</th>\n",
       "      <th>Unnamed: 47</th>\n",
       "      <th>England</th>\n",
       "    </tr>\n",
       "  </thead>\n",
       "  <tbody>\n",
       "    <tr>\n",
       "      <th>0</th>\n",
       "      <td>NaT</td>\n",
       "      <td>E09000001</td>\n",
       "      <td>E09000002</td>\n",
       "      <td>E09000003</td>\n",
       "      <td>E09000004</td>\n",
       "      <td>E09000005</td>\n",
       "      <td>E09000006</td>\n",
       "      <td>E09000007</td>\n",
       "      <td>E09000008</td>\n",
       "      <td>E09000009</td>\n",
       "      <td>...</td>\n",
       "      <td>E12000002</td>\n",
       "      <td>E12000003</td>\n",
       "      <td>E12000004</td>\n",
       "      <td>E12000005</td>\n",
       "      <td>E12000006</td>\n",
       "      <td>E12000007</td>\n",
       "      <td>E12000008</td>\n",
       "      <td>E12000009</td>\n",
       "      <td>NaN</td>\n",
       "      <td>E92000001</td>\n",
       "    </tr>\n",
       "    <tr>\n",
       "      <th>1</th>\n",
       "      <td>1995-01-01</td>\n",
       "      <td>91449</td>\n",
       "      <td>50460.2</td>\n",
       "      <td>93284.5</td>\n",
       "      <td>64958.1</td>\n",
       "      <td>71306.6</td>\n",
       "      <td>81671.5</td>\n",
       "      <td>120933</td>\n",
       "      <td>69158.2</td>\n",
       "      <td>79885.9</td>\n",
       "      <td>...</td>\n",
       "      <td>43958.5</td>\n",
       "      <td>44803.4</td>\n",
       "      <td>45544.5</td>\n",
       "      <td>48527.5</td>\n",
       "      <td>56701.6</td>\n",
       "      <td>74435.8</td>\n",
       "      <td>64018.9</td>\n",
       "      <td>54705.2</td>\n",
       "      <td>NaN</td>\n",
       "      <td>53202.8</td>\n",
       "    </tr>\n",
       "    <tr>\n",
       "      <th>2</th>\n",
       "      <td>1995-02-01</td>\n",
       "      <td>82202.8</td>\n",
       "      <td>51085.8</td>\n",
       "      <td>93190.2</td>\n",
       "      <td>64787.9</td>\n",
       "      <td>72022.3</td>\n",
       "      <td>81657.6</td>\n",
       "      <td>119509</td>\n",
       "      <td>68951.1</td>\n",
       "      <td>80897.1</td>\n",
       "      <td>...</td>\n",
       "      <td>43925.4</td>\n",
       "      <td>44528.8</td>\n",
       "      <td>46051.6</td>\n",
       "      <td>49341.3</td>\n",
       "      <td>56593.6</td>\n",
       "      <td>72777.9</td>\n",
       "      <td>63715</td>\n",
       "      <td>54356.1</td>\n",
       "      <td>NaN</td>\n",
       "      <td>53096.2</td>\n",
       "    </tr>\n",
       "    <tr>\n",
       "      <th>3</th>\n",
       "      <td>1995-03-01</td>\n",
       "      <td>79120.7</td>\n",
       "      <td>51269</td>\n",
       "      <td>92247.5</td>\n",
       "      <td>64367.5</td>\n",
       "      <td>72015.8</td>\n",
       "      <td>81449.3</td>\n",
       "      <td>120282</td>\n",
       "      <td>68712.4</td>\n",
       "      <td>81379.9</td>\n",
       "      <td>...</td>\n",
       "      <td>44434.9</td>\n",
       "      <td>45200.5</td>\n",
       "      <td>45383.8</td>\n",
       "      <td>49442.2</td>\n",
       "      <td>56171.2</td>\n",
       "      <td>73896.8</td>\n",
       "      <td>64113.6</td>\n",
       "      <td>53583.1</td>\n",
       "      <td>NaN</td>\n",
       "      <td>53201.3</td>\n",
       "    </tr>\n",
       "    <tr>\n",
       "      <th>4</th>\n",
       "      <td>1995-04-01</td>\n",
       "      <td>77101.2</td>\n",
       "      <td>53133.5</td>\n",
       "      <td>90762.9</td>\n",
       "      <td>64277.7</td>\n",
       "      <td>72965.6</td>\n",
       "      <td>81124.4</td>\n",
       "      <td>120098</td>\n",
       "      <td>68610</td>\n",
       "      <td>82188.9</td>\n",
       "      <td>...</td>\n",
       "      <td>44267.8</td>\n",
       "      <td>45614.3</td>\n",
       "      <td>46124.2</td>\n",
       "      <td>49455.9</td>\n",
       "      <td>56567.9</td>\n",
       "      <td>74455.3</td>\n",
       "      <td>64623.2</td>\n",
       "      <td>54786</td>\n",
       "      <td>NaN</td>\n",
       "      <td>53590.9</td>\n",
       "    </tr>\n",
       "  </tbody>\n",
       "</table>\n",
       "<p>5 rows × 49 columns</p>\n",
       "</div>"
      ],
      "text/plain": [
       "  Unnamed: 0 City of London Barking & Dagenham     Barnet     Bexley  \\\n",
       "0        NaT      E09000001          E09000002  E09000003  E09000004   \n",
       "1 1995-01-01          91449            50460.2    93284.5    64958.1   \n",
       "2 1995-02-01        82202.8            51085.8    93190.2    64787.9   \n",
       "3 1995-03-01        79120.7              51269    92247.5    64367.5   \n",
       "4 1995-04-01        77101.2            53133.5    90762.9    64277.7   \n",
       "\n",
       "       Brent    Bromley     Camden    Croydon     Ealing  ... NORTH WEST  \\\n",
       "0  E09000005  E09000006  E09000007  E09000008  E09000009  ...  E12000002   \n",
       "1    71306.6    81671.5     120933    69158.2    79885.9  ...    43958.5   \n",
       "2    72022.3    81657.6     119509    68951.1    80897.1  ...    43925.4   \n",
       "3    72015.8    81449.3     120282    68712.4    81379.9  ...    44434.9   \n",
       "4    72965.6    81124.4     120098      68610    82188.9  ...    44267.8   \n",
       "\n",
       "  YORKS & THE HUMBER EAST MIDLANDS WEST MIDLANDS EAST OF ENGLAND     LONDON  \\\n",
       "0          E12000003     E12000004     E12000005       E12000006  E12000007   \n",
       "1            44803.4       45544.5       48527.5         56701.6    74435.8   \n",
       "2            44528.8       46051.6       49341.3         56593.6    72777.9   \n",
       "3            45200.5       45383.8       49442.2         56171.2    73896.8   \n",
       "4            45614.3       46124.2       49455.9         56567.9    74455.3   \n",
       "\n",
       "  SOUTH EAST SOUTH WEST Unnamed: 47    England  \n",
       "0  E12000008  E12000009         NaN  E92000001  \n",
       "1    64018.9    54705.2         NaN    53202.8  \n",
       "2      63715    54356.1         NaN    53096.2  \n",
       "3    64113.6    53583.1         NaN    53201.3  \n",
       "4    64623.2      54786         NaN    53590.9  \n",
       "\n",
       "[5 rows x 49 columns]"
      ]
     },
     "execution_count": 3,
     "metadata": {},
     "output_type": "execute_result"
    }
   ],
   "source": [
    "# explore initial data loading\n",
    "df = properties\n",
    "df.head()"
   ]
  },
  {
   "cell_type": "code",
   "execution_count": 4,
   "id": "0d8ead03",
   "metadata": {},
   "outputs": [
    {
     "data": {
      "text/plain": [
       "(352, 49)"
      ]
     },
     "execution_count": 4,
     "metadata": {},
     "output_type": "execute_result"
    }
   ],
   "source": [
    "# verify rows / columns qty\n",
    "df.shape"
   ]
  },
  {
   "cell_type": "code",
   "execution_count": 5,
   "id": "e05bcac5",
   "metadata": {
    "scrolled": true
   },
   "outputs": [
    {
     "name": "stdout",
     "output_type": "stream",
     "text": [
      "<class 'pandas.core.frame.DataFrame'>\n",
      "RangeIndex: 352 entries, 0 to 351\n",
      "Data columns (total 49 columns):\n",
      " #   Column                Non-Null Count  Dtype         \n",
      "---  ------                --------------  -----         \n",
      " 0   Unnamed: 0            351 non-null    datetime64[ns]\n",
      " 1   City of London        352 non-null    object        \n",
      " 2   Barking & Dagenham    352 non-null    object        \n",
      " 3   Barnet                352 non-null    object        \n",
      " 4   Bexley                352 non-null    object        \n",
      " 5   Brent                 352 non-null    object        \n",
      " 6   Bromley               352 non-null    object        \n",
      " 7   Camden                352 non-null    object        \n",
      " 8   Croydon               352 non-null    object        \n",
      " 9   Ealing                352 non-null    object        \n",
      " 10  Enfield               352 non-null    object        \n",
      " 11  Greenwich             352 non-null    object        \n",
      " 12  Hackney               352 non-null    object        \n",
      " 13  Hammersmith & Fulham  352 non-null    object        \n",
      " 14  Haringey              352 non-null    object        \n",
      " 15  Harrow                352 non-null    object        \n",
      " 16  Havering              352 non-null    object        \n",
      " 17  Hillingdon            352 non-null    object        \n",
      " 18  Hounslow              352 non-null    object        \n",
      " 19  Islington             352 non-null    object        \n",
      " 20  Kensington & Chelsea  352 non-null    object        \n",
      " 21  Kingston upon Thames  352 non-null    object        \n",
      " 22  Lambeth               352 non-null    object        \n",
      " 23  Lewisham              352 non-null    object        \n",
      " 24  Merton                352 non-null    object        \n",
      " 25  Newham                352 non-null    object        \n",
      " 26  Redbridge             352 non-null    object        \n",
      " 27  Richmond upon Thames  352 non-null    object        \n",
      " 28  Southwark             352 non-null    object        \n",
      " 29  Sutton                352 non-null    object        \n",
      " 30  Tower Hamlets         352 non-null    object        \n",
      " 31  Waltham Forest        352 non-null    object        \n",
      " 32  Wandsworth            352 non-null    object        \n",
      " 33  Westminster           352 non-null    object        \n",
      " 34  Unnamed: 34           0 non-null      float64       \n",
      " 35  Inner London          352 non-null    object        \n",
      " 36  Outer London          352 non-null    object        \n",
      " 37  Unnamed: 37           0 non-null      float64       \n",
      " 38  NORTH EAST            352 non-null    object        \n",
      " 39  NORTH WEST            352 non-null    object        \n",
      " 40  YORKS & THE HUMBER    352 non-null    object        \n",
      " 41  EAST MIDLANDS         352 non-null    object        \n",
      " 42  WEST MIDLANDS         352 non-null    object        \n",
      " 43  EAST OF ENGLAND       352 non-null    object        \n",
      " 44  LONDON                352 non-null    object        \n",
      " 45  SOUTH EAST            352 non-null    object        \n",
      " 46  SOUTH WEST            352 non-null    object        \n",
      " 47  Unnamed: 47           0 non-null      float64       \n",
      " 48  England               352 non-null    object        \n",
      "dtypes: datetime64[ns](1), float64(3), object(45)\n",
      "memory usage: 134.9+ KB\n"
     ]
    }
   ],
   "source": [
    "# verify columns and dtypes\n",
    "df.info()"
   ]
  },
  {
   "cell_type": "markdown",
   "id": "085e12cb",
   "metadata": {},
   "source": [
    "#### 2.2. Cleaning the data"
   ]
  },
  {
   "cell_type": "markdown",
   "id": "22c5f8a0",
   "metadata": {},
   "source": [
    "first row containes codes of some sort that likely represent geographical identifiers corresponding to the borroughs. This suggests that these should potentially be column headers. Current structure has dates and values as rows and geographical locations as columns. Transposing the dataframe would make dates columns and locations rows."
   ]
  },
  {
   "cell_type": "code",
   "execution_count": 6,
   "id": "fe3ae23c",
   "metadata": {},
   "outputs": [
    {
     "data": {
      "text/plain": [
       "Unnamed: 0                    NaT\n",
       "City of London          E09000001\n",
       "Barking & Dagenham      E09000002\n",
       "Barnet                  E09000003\n",
       "Bexley                  E09000004\n",
       "Brent                   E09000005\n",
       "Bromley                 E09000006\n",
       "Camden                  E09000007\n",
       "Croydon                 E09000008\n",
       "Ealing                  E09000009\n",
       "Enfield                 E09000010\n",
       "Greenwich               E09000011\n",
       "Hackney                 E09000012\n",
       "Hammersmith & Fulham    E09000013\n",
       "Haringey                E09000014\n",
       "Harrow                  E09000015\n",
       "Havering                E09000016\n",
       "Hillingdon              E09000017\n",
       "Hounslow                E09000018\n",
       "Islington               E09000019\n",
       "Kensington & Chelsea    E09000020\n",
       "Kingston upon Thames    E09000021\n",
       "Lambeth                 E09000022\n",
       "Lewisham                E09000023\n",
       "Merton                  E09000024\n",
       "Newham                  E09000025\n",
       "Redbridge               E09000026\n",
       "Richmond upon Thames    E09000027\n",
       "Southwark               E09000028\n",
       "Sutton                  E09000029\n",
       "Tower Hamlets           E09000030\n",
       "Waltham Forest          E09000031\n",
       "Wandsworth              E09000032\n",
       "Westminster             E09000033\n",
       "Unnamed: 34                   NaN\n",
       "Inner London            E13000001\n",
       "Outer London            E13000002\n",
       "Unnamed: 37                   NaN\n",
       "NORTH EAST              E12000001\n",
       "NORTH WEST              E12000002\n",
       "YORKS & THE HUMBER      E12000003\n",
       "EAST MIDLANDS           E12000004\n",
       "WEST MIDLANDS           E12000005\n",
       "EAST OF ENGLAND         E12000006\n",
       "LONDON                  E12000007\n",
       "SOUTH EAST              E12000008\n",
       "SOUTH WEST              E12000009\n",
       "Unnamed: 47                   NaN\n",
       "England                 E92000001\n",
       "Name: 0, dtype: object"
      ]
     },
     "execution_count": 6,
     "metadata": {},
     "output_type": "execute_result"
    }
   ],
   "source": [
    "# review first row\n",
    "df.iloc[0]"
   ]
  },
  {
   "cell_type": "code",
   "execution_count": 7,
   "id": "aba63f12",
   "metadata": {},
   "outputs": [
    {
     "data": {
      "text/plain": [
       "Index(['Unnamed: 0', 'City of London', 'Barking & Dagenham', 'Barnet',\n",
       "       'Bexley', 'Brent', 'Bromley', 'Camden', 'Croydon', 'Ealing', 'Enfield',\n",
       "       'Greenwich', 'Hackney', 'Hammersmith & Fulham', 'Haringey', 'Harrow',\n",
       "       'Havering', 'Hillingdon', 'Hounslow', 'Islington',\n",
       "       'Kensington & Chelsea', 'Kingston upon Thames', 'Lambeth', 'Lewisham',\n",
       "       'Merton', 'Newham', 'Redbridge', 'Richmond upon Thames', 'Southwark',\n",
       "       'Sutton', 'Tower Hamlets', 'Waltham Forest', 'Wandsworth',\n",
       "       'Westminster', 'Unnamed: 34', 'Inner London', 'Outer London',\n",
       "       'Unnamed: 37', 'NORTH EAST', 'NORTH WEST', 'YORKS & THE HUMBER',\n",
       "       'EAST MIDLANDS', 'WEST MIDLANDS', 'EAST OF ENGLAND', 'LONDON',\n",
       "       'SOUTH EAST', 'SOUTH WEST', 'Unnamed: 47', 'England'],\n",
       "      dtype='object')"
      ]
     },
     "execution_count": 7,
     "metadata": {},
     "output_type": "execute_result"
    }
   ],
   "source": [
    "# transpose dataframe\n",
    "df_transposed = df.T\n",
    "df_transposed.index"
   ]
  },
  {
   "cell_type": "code",
   "execution_count": 8,
   "id": "7a0408b8",
   "metadata": {},
   "outputs": [
    {
     "data": {
      "text/html": [
       "<div>\n",
       "<style scoped>\n",
       "    .dataframe tbody tr th:only-of-type {\n",
       "        vertical-align: middle;\n",
       "    }\n",
       "\n",
       "    .dataframe tbody tr th {\n",
       "        vertical-align: top;\n",
       "    }\n",
       "\n",
       "    .dataframe thead th {\n",
       "        text-align: right;\n",
       "    }\n",
       "</style>\n",
       "<table border=\"1\" class=\"dataframe\">\n",
       "  <thead>\n",
       "    <tr style=\"text-align: right;\">\n",
       "      <th></th>\n",
       "      <th>0</th>\n",
       "      <th>1</th>\n",
       "      <th>2</th>\n",
       "      <th>3</th>\n",
       "      <th>4</th>\n",
       "      <th>5</th>\n",
       "      <th>6</th>\n",
       "      <th>7</th>\n",
       "      <th>8</th>\n",
       "      <th>9</th>\n",
       "      <th>...</th>\n",
       "      <th>342</th>\n",
       "      <th>343</th>\n",
       "      <th>344</th>\n",
       "      <th>345</th>\n",
       "      <th>346</th>\n",
       "      <th>347</th>\n",
       "      <th>348</th>\n",
       "      <th>349</th>\n",
       "      <th>350</th>\n",
       "      <th>351</th>\n",
       "    </tr>\n",
       "  </thead>\n",
       "  <tbody>\n",
       "    <tr>\n",
       "      <th>Unnamed: 0</th>\n",
       "      <td>NaT</td>\n",
       "      <td>1995-01-01 00:00:00</td>\n",
       "      <td>1995-02-01 00:00:00</td>\n",
       "      <td>1995-03-01 00:00:00</td>\n",
       "      <td>1995-04-01 00:00:00</td>\n",
       "      <td>1995-05-01 00:00:00</td>\n",
       "      <td>1995-06-01 00:00:00</td>\n",
       "      <td>1995-07-01 00:00:00</td>\n",
       "      <td>1995-08-01 00:00:00</td>\n",
       "      <td>1995-09-01 00:00:00</td>\n",
       "      <td>...</td>\n",
       "      <td>2023-06-01 00:00:00</td>\n",
       "      <td>2023-07-01 00:00:00</td>\n",
       "      <td>2023-08-01 00:00:00</td>\n",
       "      <td>2023-09-01 00:00:00</td>\n",
       "      <td>2023-10-01 00:00:00</td>\n",
       "      <td>2023-11-01 00:00:00</td>\n",
       "      <td>2023-12-01 00:00:00</td>\n",
       "      <td>2024-01-01 00:00:00</td>\n",
       "      <td>2024-02-01 00:00:00</td>\n",
       "      <td>2024-03-01 00:00:00</td>\n",
       "    </tr>\n",
       "    <tr>\n",
       "      <th>City of London</th>\n",
       "      <td>E09000001</td>\n",
       "      <td>91449</td>\n",
       "      <td>82202.8</td>\n",
       "      <td>79120.7</td>\n",
       "      <td>77101.2</td>\n",
       "      <td>84409.1</td>\n",
       "      <td>94900.5</td>\n",
       "      <td>110128</td>\n",
       "      <td>112329</td>\n",
       "      <td>104473</td>\n",
       "      <td>...</td>\n",
       "      <td>960267</td>\n",
       "      <td>967351</td>\n",
       "      <td>918300</td>\n",
       "      <td>879340</td>\n",
       "      <td>862513</td>\n",
       "      <td>818725</td>\n",
       "      <td>765053</td>\n",
       "      <td>745920</td>\n",
       "      <td>753200</td>\n",
       "      <td>676544</td>\n",
       "    </tr>\n",
       "    <tr>\n",
       "      <th>Barking &amp; Dagenham</th>\n",
       "      <td>E09000002</td>\n",
       "      <td>50460.2</td>\n",
       "      <td>51085.8</td>\n",
       "      <td>51269</td>\n",
       "      <td>53133.5</td>\n",
       "      <td>53042.2</td>\n",
       "      <td>53700.3</td>\n",
       "      <td>52113.1</td>\n",
       "      <td>52232.2</td>\n",
       "      <td>51471.6</td>\n",
       "      <td>...</td>\n",
       "      <td>341062</td>\n",
       "      <td>339005</td>\n",
       "      <td>339326</td>\n",
       "      <td>337259</td>\n",
       "      <td>337522</td>\n",
       "      <td>341472</td>\n",
       "      <td>339780</td>\n",
       "      <td>326328</td>\n",
       "      <td>317476</td>\n",
       "      <td>315275</td>\n",
       "    </tr>\n",
       "    <tr>\n",
       "      <th>Barnet</th>\n",
       "      <td>E09000003</td>\n",
       "      <td>93284.5</td>\n",
       "      <td>93190.2</td>\n",
       "      <td>92247.5</td>\n",
       "      <td>90762.9</td>\n",
       "      <td>90258</td>\n",
       "      <td>90107.2</td>\n",
       "      <td>91441.2</td>\n",
       "      <td>92361.3</td>\n",
       "      <td>93273.1</td>\n",
       "      <td>...</td>\n",
       "      <td>581623</td>\n",
       "      <td>583571</td>\n",
       "      <td>588157</td>\n",
       "      <td>587550</td>\n",
       "      <td>579748</td>\n",
       "      <td>580851</td>\n",
       "      <td>577726</td>\n",
       "      <td>576544</td>\n",
       "      <td>575585</td>\n",
       "      <td>591449</td>\n",
       "    </tr>\n",
       "    <tr>\n",
       "      <th>Bexley</th>\n",
       "      <td>E09000004</td>\n",
       "      <td>64958.1</td>\n",
       "      <td>64787.9</td>\n",
       "      <td>64367.5</td>\n",
       "      <td>64277.7</td>\n",
       "      <td>63997.1</td>\n",
       "      <td>64252.3</td>\n",
       "      <td>63722.7</td>\n",
       "      <td>64432.6</td>\n",
       "      <td>64509.5</td>\n",
       "      <td>...</td>\n",
       "      <td>395789</td>\n",
       "      <td>397776</td>\n",
       "      <td>397210</td>\n",
       "      <td>398389</td>\n",
       "      <td>393944</td>\n",
       "      <td>398303</td>\n",
       "      <td>394620</td>\n",
       "      <td>394830</td>\n",
       "      <td>395463</td>\n",
       "      <td>403037</td>\n",
       "    </tr>\n",
       "  </tbody>\n",
       "</table>\n",
       "<p>5 rows × 352 columns</p>\n",
       "</div>"
      ],
      "text/plain": [
       "                          0                    1                    2    \\\n",
       "Unnamed: 0                NaT  1995-01-01 00:00:00  1995-02-01 00:00:00   \n",
       "City of London      E09000001                91449              82202.8   \n",
       "Barking & Dagenham  E09000002              50460.2              51085.8   \n",
       "Barnet              E09000003              93284.5              93190.2   \n",
       "Bexley              E09000004              64958.1              64787.9   \n",
       "\n",
       "                                    3                    4    \\\n",
       "Unnamed: 0          1995-03-01 00:00:00  1995-04-01 00:00:00   \n",
       "City of London                  79120.7              77101.2   \n",
       "Barking & Dagenham                51269              53133.5   \n",
       "Barnet                          92247.5              90762.9   \n",
       "Bexley                          64367.5              64277.7   \n",
       "\n",
       "                                    5                    6    \\\n",
       "Unnamed: 0          1995-05-01 00:00:00  1995-06-01 00:00:00   \n",
       "City of London                  84409.1              94900.5   \n",
       "Barking & Dagenham              53042.2              53700.3   \n",
       "Barnet                            90258              90107.2   \n",
       "Bexley                          63997.1              64252.3   \n",
       "\n",
       "                                    7                    8    \\\n",
       "Unnamed: 0          1995-07-01 00:00:00  1995-08-01 00:00:00   \n",
       "City of London                   110128               112329   \n",
       "Barking & Dagenham              52113.1              52232.2   \n",
       "Barnet                          91441.2              92361.3   \n",
       "Bexley                          63722.7              64432.6   \n",
       "\n",
       "                                    9    ...                  342  \\\n",
       "Unnamed: 0          1995-09-01 00:00:00  ...  2023-06-01 00:00:00   \n",
       "City of London                   104473  ...               960267   \n",
       "Barking & Dagenham              51471.6  ...               341062   \n",
       "Barnet                          93273.1  ...               581623   \n",
       "Bexley                          64509.5  ...               395789   \n",
       "\n",
       "                                    343                  344  \\\n",
       "Unnamed: 0          2023-07-01 00:00:00  2023-08-01 00:00:00   \n",
       "City of London                   967351               918300   \n",
       "Barking & Dagenham               339005               339326   \n",
       "Barnet                           583571               588157   \n",
       "Bexley                           397776               397210   \n",
       "\n",
       "                                    345                  346  \\\n",
       "Unnamed: 0          2023-09-01 00:00:00  2023-10-01 00:00:00   \n",
       "City of London                   879340               862513   \n",
       "Barking & Dagenham               337259               337522   \n",
       "Barnet                           587550               579748   \n",
       "Bexley                           398389               393944   \n",
       "\n",
       "                                    347                  348  \\\n",
       "Unnamed: 0          2023-11-01 00:00:00  2023-12-01 00:00:00   \n",
       "City of London                   818725               765053   \n",
       "Barking & Dagenham               341472               339780   \n",
       "Barnet                           580851               577726   \n",
       "Bexley                           398303               394620   \n",
       "\n",
       "                                    349                  350  \\\n",
       "Unnamed: 0          2024-01-01 00:00:00  2024-02-01 00:00:00   \n",
       "City of London                   745920               753200   \n",
       "Barking & Dagenham               326328               317476   \n",
       "Barnet                           576544               575585   \n",
       "Bexley                           394830               395463   \n",
       "\n",
       "                                    351  \n",
       "Unnamed: 0          2024-03-01 00:00:00  \n",
       "City of London                   676544  \n",
       "Barking & Dagenham               315275  \n",
       "Barnet                           591449  \n",
       "Bexley                           403037  \n",
       "\n",
       "[5 rows x 352 columns]"
      ]
     },
     "execution_count": 8,
     "metadata": {},
     "output_type": "execute_result"
    }
   ],
   "source": [
    "# verify result\n",
    "df_transposed.head()"
   ]
  },
  {
   "cell_type": "code",
   "execution_count": 9,
   "id": "265235e8",
   "metadata": {
    "scrolled": true
   },
   "outputs": [
    {
     "data": {
      "text/plain": [
       "(49, 352)"
      ]
     },
     "execution_count": 9,
     "metadata": {},
     "output_type": "execute_result"
    }
   ],
   "source": [
    "# verify rows / columns\n",
    "df_transposed.shape"
   ]
  },
  {
   "cell_type": "code",
   "execution_count": 10,
   "id": "4cfca5d5",
   "metadata": {},
   "outputs": [],
   "source": [
    "# reset index\n",
    "df_reset = df_transposed.reset_index()"
   ]
  },
  {
   "cell_type": "code",
   "execution_count": 11,
   "id": "23fac908",
   "metadata": {},
   "outputs": [
    {
     "data": {
      "text/html": [
       "<div>\n",
       "<style scoped>\n",
       "    .dataframe tbody tr th:only-of-type {\n",
       "        vertical-align: middle;\n",
       "    }\n",
       "\n",
       "    .dataframe tbody tr th {\n",
       "        vertical-align: top;\n",
       "    }\n",
       "\n",
       "    .dataframe thead th {\n",
       "        text-align: right;\n",
       "    }\n",
       "</style>\n",
       "<table border=\"1\" class=\"dataframe\">\n",
       "  <thead>\n",
       "    <tr style=\"text-align: right;\">\n",
       "      <th></th>\n",
       "      <th>index</th>\n",
       "      <th>0</th>\n",
       "      <th>1</th>\n",
       "      <th>2</th>\n",
       "      <th>3</th>\n",
       "      <th>4</th>\n",
       "      <th>5</th>\n",
       "      <th>6</th>\n",
       "      <th>7</th>\n",
       "      <th>8</th>\n",
       "      <th>...</th>\n",
       "      <th>342</th>\n",
       "      <th>343</th>\n",
       "      <th>344</th>\n",
       "      <th>345</th>\n",
       "      <th>346</th>\n",
       "      <th>347</th>\n",
       "      <th>348</th>\n",
       "      <th>349</th>\n",
       "      <th>350</th>\n",
       "      <th>351</th>\n",
       "    </tr>\n",
       "  </thead>\n",
       "  <tbody>\n",
       "    <tr>\n",
       "      <th>0</th>\n",
       "      <td>Unnamed: 0</td>\n",
       "      <td>NaT</td>\n",
       "      <td>1995-01-01 00:00:00</td>\n",
       "      <td>1995-02-01 00:00:00</td>\n",
       "      <td>1995-03-01 00:00:00</td>\n",
       "      <td>1995-04-01 00:00:00</td>\n",
       "      <td>1995-05-01 00:00:00</td>\n",
       "      <td>1995-06-01 00:00:00</td>\n",
       "      <td>1995-07-01 00:00:00</td>\n",
       "      <td>1995-08-01 00:00:00</td>\n",
       "      <td>...</td>\n",
       "      <td>2023-06-01 00:00:00</td>\n",
       "      <td>2023-07-01 00:00:00</td>\n",
       "      <td>2023-08-01 00:00:00</td>\n",
       "      <td>2023-09-01 00:00:00</td>\n",
       "      <td>2023-10-01 00:00:00</td>\n",
       "      <td>2023-11-01 00:00:00</td>\n",
       "      <td>2023-12-01 00:00:00</td>\n",
       "      <td>2024-01-01 00:00:00</td>\n",
       "      <td>2024-02-01 00:00:00</td>\n",
       "      <td>2024-03-01 00:00:00</td>\n",
       "    </tr>\n",
       "    <tr>\n",
       "      <th>1</th>\n",
       "      <td>City of London</td>\n",
       "      <td>E09000001</td>\n",
       "      <td>91449</td>\n",
       "      <td>82202.8</td>\n",
       "      <td>79120.7</td>\n",
       "      <td>77101.2</td>\n",
       "      <td>84409.1</td>\n",
       "      <td>94900.5</td>\n",
       "      <td>110128</td>\n",
       "      <td>112329</td>\n",
       "      <td>...</td>\n",
       "      <td>960267</td>\n",
       "      <td>967351</td>\n",
       "      <td>918300</td>\n",
       "      <td>879340</td>\n",
       "      <td>862513</td>\n",
       "      <td>818725</td>\n",
       "      <td>765053</td>\n",
       "      <td>745920</td>\n",
       "      <td>753200</td>\n",
       "      <td>676544</td>\n",
       "    </tr>\n",
       "    <tr>\n",
       "      <th>2</th>\n",
       "      <td>Barking &amp; Dagenham</td>\n",
       "      <td>E09000002</td>\n",
       "      <td>50460.2</td>\n",
       "      <td>51085.8</td>\n",
       "      <td>51269</td>\n",
       "      <td>53133.5</td>\n",
       "      <td>53042.2</td>\n",
       "      <td>53700.3</td>\n",
       "      <td>52113.1</td>\n",
       "      <td>52232.2</td>\n",
       "      <td>...</td>\n",
       "      <td>341062</td>\n",
       "      <td>339005</td>\n",
       "      <td>339326</td>\n",
       "      <td>337259</td>\n",
       "      <td>337522</td>\n",
       "      <td>341472</td>\n",
       "      <td>339780</td>\n",
       "      <td>326328</td>\n",
       "      <td>317476</td>\n",
       "      <td>315275</td>\n",
       "    </tr>\n",
       "    <tr>\n",
       "      <th>3</th>\n",
       "      <td>Barnet</td>\n",
       "      <td>E09000003</td>\n",
       "      <td>93284.5</td>\n",
       "      <td>93190.2</td>\n",
       "      <td>92247.5</td>\n",
       "      <td>90762.9</td>\n",
       "      <td>90258</td>\n",
       "      <td>90107.2</td>\n",
       "      <td>91441.2</td>\n",
       "      <td>92361.3</td>\n",
       "      <td>...</td>\n",
       "      <td>581623</td>\n",
       "      <td>583571</td>\n",
       "      <td>588157</td>\n",
       "      <td>587550</td>\n",
       "      <td>579748</td>\n",
       "      <td>580851</td>\n",
       "      <td>577726</td>\n",
       "      <td>576544</td>\n",
       "      <td>575585</td>\n",
       "      <td>591449</td>\n",
       "    </tr>\n",
       "    <tr>\n",
       "      <th>4</th>\n",
       "      <td>Bexley</td>\n",
       "      <td>E09000004</td>\n",
       "      <td>64958.1</td>\n",
       "      <td>64787.9</td>\n",
       "      <td>64367.5</td>\n",
       "      <td>64277.7</td>\n",
       "      <td>63997.1</td>\n",
       "      <td>64252.3</td>\n",
       "      <td>63722.7</td>\n",
       "      <td>64432.6</td>\n",
       "      <td>...</td>\n",
       "      <td>395789</td>\n",
       "      <td>397776</td>\n",
       "      <td>397210</td>\n",
       "      <td>398389</td>\n",
       "      <td>393944</td>\n",
       "      <td>398303</td>\n",
       "      <td>394620</td>\n",
       "      <td>394830</td>\n",
       "      <td>395463</td>\n",
       "      <td>403037</td>\n",
       "    </tr>\n",
       "  </tbody>\n",
       "</table>\n",
       "<p>5 rows × 353 columns</p>\n",
       "</div>"
      ],
      "text/plain": [
       "                index          0                    1                    2  \\\n",
       "0          Unnamed: 0        NaT  1995-01-01 00:00:00  1995-02-01 00:00:00   \n",
       "1      City of London  E09000001                91449              82202.8   \n",
       "2  Barking & Dagenham  E09000002              50460.2              51085.8   \n",
       "3              Barnet  E09000003              93284.5              93190.2   \n",
       "4              Bexley  E09000004              64958.1              64787.9   \n",
       "\n",
       "                     3                    4                    5  \\\n",
       "0  1995-03-01 00:00:00  1995-04-01 00:00:00  1995-05-01 00:00:00   \n",
       "1              79120.7              77101.2              84409.1   \n",
       "2                51269              53133.5              53042.2   \n",
       "3              92247.5              90762.9                90258   \n",
       "4              64367.5              64277.7              63997.1   \n",
       "\n",
       "                     6                    7                    8  ...  \\\n",
       "0  1995-06-01 00:00:00  1995-07-01 00:00:00  1995-08-01 00:00:00  ...   \n",
       "1              94900.5               110128               112329  ...   \n",
       "2              53700.3              52113.1              52232.2  ...   \n",
       "3              90107.2              91441.2              92361.3  ...   \n",
       "4              64252.3              63722.7              64432.6  ...   \n",
       "\n",
       "                   342                  343                  344  \\\n",
       "0  2023-06-01 00:00:00  2023-07-01 00:00:00  2023-08-01 00:00:00   \n",
       "1               960267               967351               918300   \n",
       "2               341062               339005               339326   \n",
       "3               581623               583571               588157   \n",
       "4               395789               397776               397210   \n",
       "\n",
       "                   345                  346                  347  \\\n",
       "0  2023-09-01 00:00:00  2023-10-01 00:00:00  2023-11-01 00:00:00   \n",
       "1               879340               862513               818725   \n",
       "2               337259               337522               341472   \n",
       "3               587550               579748               580851   \n",
       "4               398389               393944               398303   \n",
       "\n",
       "                   348                  349                  350  \\\n",
       "0  2023-12-01 00:00:00  2024-01-01 00:00:00  2024-02-01 00:00:00   \n",
       "1               765053               745920               753200   \n",
       "2               339780               326328               317476   \n",
       "3               577726               576544               575585   \n",
       "4               394620               394830               395463   \n",
       "\n",
       "                   351  \n",
       "0  2024-03-01 00:00:00  \n",
       "1               676544  \n",
       "2               315275  \n",
       "3               591449  \n",
       "4               403037  \n",
       "\n",
       "[5 rows x 353 columns]"
      ]
     },
     "execution_count": 11,
     "metadata": {},
     "output_type": "execute_result"
    }
   ],
   "source": [
    "# verify df \n",
    "df_reset.head()"
   ]
  },
  {
   "cell_type": "markdown",
   "id": "10a2730a",
   "metadata": {},
   "source": [
    "reset columns to be the first row (index 0) of the dataframe. Allowing the dates to be column headers.\n",
    "\n",
    "we drop the unnessary row that is a duplicate of the column headers. "
   ]
  },
  {
   "cell_type": "code",
   "execution_count": 12,
   "id": "0a5c720a",
   "metadata": {
    "scrolled": true
   },
   "outputs": [
    {
     "data": {
      "text/html": [
       "<div>\n",
       "<style scoped>\n",
       "    .dataframe tbody tr th:only-of-type {\n",
       "        vertical-align: middle;\n",
       "    }\n",
       "\n",
       "    .dataframe tbody tr th {\n",
       "        vertical-align: top;\n",
       "    }\n",
       "\n",
       "    .dataframe thead th {\n",
       "        text-align: right;\n",
       "    }\n",
       "</style>\n",
       "<table border=\"1\" class=\"dataframe\">\n",
       "  <thead>\n",
       "    <tr style=\"text-align: right;\">\n",
       "      <th></th>\n",
       "      <th>Unnamed: 0</th>\n",
       "      <th>NaN</th>\n",
       "      <th>1995-01-01 00:00:00</th>\n",
       "      <th>1995-02-01 00:00:00</th>\n",
       "      <th>1995-03-01 00:00:00</th>\n",
       "      <th>1995-04-01 00:00:00</th>\n",
       "      <th>1995-05-01 00:00:00</th>\n",
       "      <th>1995-06-01 00:00:00</th>\n",
       "      <th>1995-07-01 00:00:00</th>\n",
       "      <th>1995-08-01 00:00:00</th>\n",
       "      <th>...</th>\n",
       "      <th>2023-06-01 00:00:00</th>\n",
       "      <th>2023-07-01 00:00:00</th>\n",
       "      <th>2023-08-01 00:00:00</th>\n",
       "      <th>2023-09-01 00:00:00</th>\n",
       "      <th>2023-10-01 00:00:00</th>\n",
       "      <th>2023-11-01 00:00:00</th>\n",
       "      <th>2023-12-01 00:00:00</th>\n",
       "      <th>2024-01-01 00:00:00</th>\n",
       "      <th>2024-02-01 00:00:00</th>\n",
       "      <th>2024-03-01 00:00:00</th>\n",
       "    </tr>\n",
       "  </thead>\n",
       "  <tbody>\n",
       "    <tr>\n",
       "      <th>0</th>\n",
       "      <td>Unnamed: 0</td>\n",
       "      <td>NaT</td>\n",
       "      <td>1995-01-01 00:00:00</td>\n",
       "      <td>1995-02-01 00:00:00</td>\n",
       "      <td>1995-03-01 00:00:00</td>\n",
       "      <td>1995-04-01 00:00:00</td>\n",
       "      <td>1995-05-01 00:00:00</td>\n",
       "      <td>1995-06-01 00:00:00</td>\n",
       "      <td>1995-07-01 00:00:00</td>\n",
       "      <td>1995-08-01 00:00:00</td>\n",
       "      <td>...</td>\n",
       "      <td>2023-06-01 00:00:00</td>\n",
       "      <td>2023-07-01 00:00:00</td>\n",
       "      <td>2023-08-01 00:00:00</td>\n",
       "      <td>2023-09-01 00:00:00</td>\n",
       "      <td>2023-10-01 00:00:00</td>\n",
       "      <td>2023-11-01 00:00:00</td>\n",
       "      <td>2023-12-01 00:00:00</td>\n",
       "      <td>2024-01-01 00:00:00</td>\n",
       "      <td>2024-02-01 00:00:00</td>\n",
       "      <td>2024-03-01 00:00:00</td>\n",
       "    </tr>\n",
       "    <tr>\n",
       "      <th>1</th>\n",
       "      <td>City of London</td>\n",
       "      <td>E09000001</td>\n",
       "      <td>91449</td>\n",
       "      <td>82202.8</td>\n",
       "      <td>79120.7</td>\n",
       "      <td>77101.2</td>\n",
       "      <td>84409.1</td>\n",
       "      <td>94900.5</td>\n",
       "      <td>110128</td>\n",
       "      <td>112329</td>\n",
       "      <td>...</td>\n",
       "      <td>960267</td>\n",
       "      <td>967351</td>\n",
       "      <td>918300</td>\n",
       "      <td>879340</td>\n",
       "      <td>862513</td>\n",
       "      <td>818725</td>\n",
       "      <td>765053</td>\n",
       "      <td>745920</td>\n",
       "      <td>753200</td>\n",
       "      <td>676544</td>\n",
       "    </tr>\n",
       "    <tr>\n",
       "      <th>2</th>\n",
       "      <td>Barking &amp; Dagenham</td>\n",
       "      <td>E09000002</td>\n",
       "      <td>50460.2</td>\n",
       "      <td>51085.8</td>\n",
       "      <td>51269</td>\n",
       "      <td>53133.5</td>\n",
       "      <td>53042.2</td>\n",
       "      <td>53700.3</td>\n",
       "      <td>52113.1</td>\n",
       "      <td>52232.2</td>\n",
       "      <td>...</td>\n",
       "      <td>341062</td>\n",
       "      <td>339005</td>\n",
       "      <td>339326</td>\n",
       "      <td>337259</td>\n",
       "      <td>337522</td>\n",
       "      <td>341472</td>\n",
       "      <td>339780</td>\n",
       "      <td>326328</td>\n",
       "      <td>317476</td>\n",
       "      <td>315275</td>\n",
       "    </tr>\n",
       "    <tr>\n",
       "      <th>3</th>\n",
       "      <td>Barnet</td>\n",
       "      <td>E09000003</td>\n",
       "      <td>93284.5</td>\n",
       "      <td>93190.2</td>\n",
       "      <td>92247.5</td>\n",
       "      <td>90762.9</td>\n",
       "      <td>90258</td>\n",
       "      <td>90107.2</td>\n",
       "      <td>91441.2</td>\n",
       "      <td>92361.3</td>\n",
       "      <td>...</td>\n",
       "      <td>581623</td>\n",
       "      <td>583571</td>\n",
       "      <td>588157</td>\n",
       "      <td>587550</td>\n",
       "      <td>579748</td>\n",
       "      <td>580851</td>\n",
       "      <td>577726</td>\n",
       "      <td>576544</td>\n",
       "      <td>575585</td>\n",
       "      <td>591449</td>\n",
       "    </tr>\n",
       "    <tr>\n",
       "      <th>4</th>\n",
       "      <td>Bexley</td>\n",
       "      <td>E09000004</td>\n",
       "      <td>64958.1</td>\n",
       "      <td>64787.9</td>\n",
       "      <td>64367.5</td>\n",
       "      <td>64277.7</td>\n",
       "      <td>63997.1</td>\n",
       "      <td>64252.3</td>\n",
       "      <td>63722.7</td>\n",
       "      <td>64432.6</td>\n",
       "      <td>...</td>\n",
       "      <td>395789</td>\n",
       "      <td>397776</td>\n",
       "      <td>397210</td>\n",
       "      <td>398389</td>\n",
       "      <td>393944</td>\n",
       "      <td>398303</td>\n",
       "      <td>394620</td>\n",
       "      <td>394830</td>\n",
       "      <td>395463</td>\n",
       "      <td>403037</td>\n",
       "    </tr>\n",
       "  </tbody>\n",
       "</table>\n",
       "<p>5 rows × 353 columns</p>\n",
       "</div>"
      ],
      "text/plain": [
       "0          Unnamed: 0        NaN  1995-01-01 00:00:00  1995-02-01 00:00:00  \\\n",
       "0          Unnamed: 0        NaT  1995-01-01 00:00:00  1995-02-01 00:00:00   \n",
       "1      City of London  E09000001                91449              82202.8   \n",
       "2  Barking & Dagenham  E09000002              50460.2              51085.8   \n",
       "3              Barnet  E09000003              93284.5              93190.2   \n",
       "4              Bexley  E09000004              64958.1              64787.9   \n",
       "\n",
       "0  1995-03-01 00:00:00  1995-04-01 00:00:00  1995-05-01 00:00:00  \\\n",
       "0  1995-03-01 00:00:00  1995-04-01 00:00:00  1995-05-01 00:00:00   \n",
       "1              79120.7              77101.2              84409.1   \n",
       "2                51269              53133.5              53042.2   \n",
       "3              92247.5              90762.9                90258   \n",
       "4              64367.5              64277.7              63997.1   \n",
       "\n",
       "0  1995-06-01 00:00:00  1995-07-01 00:00:00  1995-08-01 00:00:00  ...  \\\n",
       "0  1995-06-01 00:00:00  1995-07-01 00:00:00  1995-08-01 00:00:00  ...   \n",
       "1              94900.5               110128               112329  ...   \n",
       "2              53700.3              52113.1              52232.2  ...   \n",
       "3              90107.2              91441.2              92361.3  ...   \n",
       "4              64252.3              63722.7              64432.6  ...   \n",
       "\n",
       "0  2023-06-01 00:00:00  2023-07-01 00:00:00  2023-08-01 00:00:00  \\\n",
       "0  2023-06-01 00:00:00  2023-07-01 00:00:00  2023-08-01 00:00:00   \n",
       "1               960267               967351               918300   \n",
       "2               341062               339005               339326   \n",
       "3               581623               583571               588157   \n",
       "4               395789               397776               397210   \n",
       "\n",
       "0  2023-09-01 00:00:00  2023-10-01 00:00:00  2023-11-01 00:00:00  \\\n",
       "0  2023-09-01 00:00:00  2023-10-01 00:00:00  2023-11-01 00:00:00   \n",
       "1               879340               862513               818725   \n",
       "2               337259               337522               341472   \n",
       "3               587550               579748               580851   \n",
       "4               398389               393944               398303   \n",
       "\n",
       "0  2023-12-01 00:00:00  2024-01-01 00:00:00  2024-02-01 00:00:00  \\\n",
       "0  2023-12-01 00:00:00  2024-01-01 00:00:00  2024-02-01 00:00:00   \n",
       "1               765053               745920               753200   \n",
       "2               339780               326328               317476   \n",
       "3               577726               576544               575585   \n",
       "4               394620               394830               395463   \n",
       "\n",
       "0  2024-03-01 00:00:00  \n",
       "0  2024-03-01 00:00:00  \n",
       "1               676544  \n",
       "2               315275  \n",
       "3               591449  \n",
       "4               403037  \n",
       "\n",
       "[5 rows x 353 columns]"
      ]
     },
     "execution_count": 12,
     "metadata": {},
     "output_type": "execute_result"
    }
   ],
   "source": [
    "df_reset.columns = df_reset.iloc[0]\n",
    "df_reset.head()"
   ]
  },
  {
   "cell_type": "code",
   "execution_count": 13,
   "id": "3a6f6be5",
   "metadata": {},
   "outputs": [
    {
     "data": {
      "text/html": [
       "<div>\n",
       "<style scoped>\n",
       "    .dataframe tbody tr th:only-of-type {\n",
       "        vertical-align: middle;\n",
       "    }\n",
       "\n",
       "    .dataframe tbody tr th {\n",
       "        vertical-align: top;\n",
       "    }\n",
       "\n",
       "    .dataframe thead th {\n",
       "        text-align: right;\n",
       "    }\n",
       "</style>\n",
       "<table border=\"1\" class=\"dataframe\">\n",
       "  <thead>\n",
       "    <tr style=\"text-align: right;\">\n",
       "      <th></th>\n",
       "      <th>Unnamed: 0</th>\n",
       "      <th>NaN</th>\n",
       "      <th>1995-01-01 00:00:00</th>\n",
       "      <th>1995-02-01 00:00:00</th>\n",
       "      <th>1995-03-01 00:00:00</th>\n",
       "      <th>1995-04-01 00:00:00</th>\n",
       "      <th>1995-05-01 00:00:00</th>\n",
       "      <th>1995-06-01 00:00:00</th>\n",
       "      <th>1995-07-01 00:00:00</th>\n",
       "      <th>1995-08-01 00:00:00</th>\n",
       "      <th>...</th>\n",
       "      <th>2023-06-01 00:00:00</th>\n",
       "      <th>2023-07-01 00:00:00</th>\n",
       "      <th>2023-08-01 00:00:00</th>\n",
       "      <th>2023-09-01 00:00:00</th>\n",
       "      <th>2023-10-01 00:00:00</th>\n",
       "      <th>2023-11-01 00:00:00</th>\n",
       "      <th>2023-12-01 00:00:00</th>\n",
       "      <th>2024-01-01 00:00:00</th>\n",
       "      <th>2024-02-01 00:00:00</th>\n",
       "      <th>2024-03-01 00:00:00</th>\n",
       "    </tr>\n",
       "  </thead>\n",
       "  <tbody>\n",
       "    <tr>\n",
       "      <th>0</th>\n",
       "      <td>City of London</td>\n",
       "      <td>E09000001</td>\n",
       "      <td>91449</td>\n",
       "      <td>82202.8</td>\n",
       "      <td>79120.7</td>\n",
       "      <td>77101.2</td>\n",
       "      <td>84409.1</td>\n",
       "      <td>94900.5</td>\n",
       "      <td>110128</td>\n",
       "      <td>112329</td>\n",
       "      <td>...</td>\n",
       "      <td>960267</td>\n",
       "      <td>967351</td>\n",
       "      <td>918300</td>\n",
       "      <td>879340</td>\n",
       "      <td>862513</td>\n",
       "      <td>818725</td>\n",
       "      <td>765053</td>\n",
       "      <td>745920</td>\n",
       "      <td>753200</td>\n",
       "      <td>676544</td>\n",
       "    </tr>\n",
       "    <tr>\n",
       "      <th>1</th>\n",
       "      <td>Barking &amp; Dagenham</td>\n",
       "      <td>E09000002</td>\n",
       "      <td>50460.2</td>\n",
       "      <td>51085.8</td>\n",
       "      <td>51269</td>\n",
       "      <td>53133.5</td>\n",
       "      <td>53042.2</td>\n",
       "      <td>53700.3</td>\n",
       "      <td>52113.1</td>\n",
       "      <td>52232.2</td>\n",
       "      <td>...</td>\n",
       "      <td>341062</td>\n",
       "      <td>339005</td>\n",
       "      <td>339326</td>\n",
       "      <td>337259</td>\n",
       "      <td>337522</td>\n",
       "      <td>341472</td>\n",
       "      <td>339780</td>\n",
       "      <td>326328</td>\n",
       "      <td>317476</td>\n",
       "      <td>315275</td>\n",
       "    </tr>\n",
       "    <tr>\n",
       "      <th>2</th>\n",
       "      <td>Barnet</td>\n",
       "      <td>E09000003</td>\n",
       "      <td>93284.5</td>\n",
       "      <td>93190.2</td>\n",
       "      <td>92247.5</td>\n",
       "      <td>90762.9</td>\n",
       "      <td>90258</td>\n",
       "      <td>90107.2</td>\n",
       "      <td>91441.2</td>\n",
       "      <td>92361.3</td>\n",
       "      <td>...</td>\n",
       "      <td>581623</td>\n",
       "      <td>583571</td>\n",
       "      <td>588157</td>\n",
       "      <td>587550</td>\n",
       "      <td>579748</td>\n",
       "      <td>580851</td>\n",
       "      <td>577726</td>\n",
       "      <td>576544</td>\n",
       "      <td>575585</td>\n",
       "      <td>591449</td>\n",
       "    </tr>\n",
       "    <tr>\n",
       "      <th>3</th>\n",
       "      <td>Bexley</td>\n",
       "      <td>E09000004</td>\n",
       "      <td>64958.1</td>\n",
       "      <td>64787.9</td>\n",
       "      <td>64367.5</td>\n",
       "      <td>64277.7</td>\n",
       "      <td>63997.1</td>\n",
       "      <td>64252.3</td>\n",
       "      <td>63722.7</td>\n",
       "      <td>64432.6</td>\n",
       "      <td>...</td>\n",
       "      <td>395789</td>\n",
       "      <td>397776</td>\n",
       "      <td>397210</td>\n",
       "      <td>398389</td>\n",
       "      <td>393944</td>\n",
       "      <td>398303</td>\n",
       "      <td>394620</td>\n",
       "      <td>394830</td>\n",
       "      <td>395463</td>\n",
       "      <td>403037</td>\n",
       "    </tr>\n",
       "    <tr>\n",
       "      <th>4</th>\n",
       "      <td>Brent</td>\n",
       "      <td>E09000005</td>\n",
       "      <td>71306.6</td>\n",
       "      <td>72022.3</td>\n",
       "      <td>72015.8</td>\n",
       "      <td>72965.6</td>\n",
       "      <td>73704</td>\n",
       "      <td>74310.5</td>\n",
       "      <td>74127</td>\n",
       "      <td>73547</td>\n",
       "      <td>...</td>\n",
       "      <td>516817</td>\n",
       "      <td>511865</td>\n",
       "      <td>528739</td>\n",
       "      <td>528787</td>\n",
       "      <td>528411</td>\n",
       "      <td>514028</td>\n",
       "      <td>510416</td>\n",
       "      <td>527380</td>\n",
       "      <td>530682</td>\n",
       "      <td>512292</td>\n",
       "    </tr>\n",
       "  </tbody>\n",
       "</table>\n",
       "<p>5 rows × 353 columns</p>\n",
       "</div>"
      ],
      "text/plain": [
       "0          Unnamed: 0        NaN 1995-01-01 00:00:00 1995-02-01 00:00:00  \\\n",
       "0      City of London  E09000001               91449             82202.8   \n",
       "1  Barking & Dagenham  E09000002             50460.2             51085.8   \n",
       "2              Barnet  E09000003             93284.5             93190.2   \n",
       "3              Bexley  E09000004             64958.1             64787.9   \n",
       "4               Brent  E09000005             71306.6             72022.3   \n",
       "\n",
       "0 1995-03-01 00:00:00 1995-04-01 00:00:00 1995-05-01 00:00:00  \\\n",
       "0             79120.7             77101.2             84409.1   \n",
       "1               51269             53133.5             53042.2   \n",
       "2             92247.5             90762.9               90258   \n",
       "3             64367.5             64277.7             63997.1   \n",
       "4             72015.8             72965.6               73704   \n",
       "\n",
       "0 1995-06-01 00:00:00 1995-07-01 00:00:00 1995-08-01 00:00:00  ...  \\\n",
       "0             94900.5              110128              112329  ...   \n",
       "1             53700.3             52113.1             52232.2  ...   \n",
       "2             90107.2             91441.2             92361.3  ...   \n",
       "3             64252.3             63722.7             64432.6  ...   \n",
       "4             74310.5               74127               73547  ...   \n",
       "\n",
       "0 2023-06-01 00:00:00 2023-07-01 00:00:00 2023-08-01 00:00:00  \\\n",
       "0              960267              967351              918300   \n",
       "1              341062              339005              339326   \n",
       "2              581623              583571              588157   \n",
       "3              395789              397776              397210   \n",
       "4              516817              511865              528739   \n",
       "\n",
       "0 2023-09-01 00:00:00 2023-10-01 00:00:00 2023-11-01 00:00:00  \\\n",
       "0              879340              862513              818725   \n",
       "1              337259              337522              341472   \n",
       "2              587550              579748              580851   \n",
       "3              398389              393944              398303   \n",
       "4              528787              528411              514028   \n",
       "\n",
       "0 2023-12-01 00:00:00 2024-01-01 00:00:00 2024-02-01 00:00:00  \\\n",
       "0              765053              745920              753200   \n",
       "1              339780              326328              317476   \n",
       "2              577726              576544              575585   \n",
       "3              394620              394830              395463   \n",
       "4              510416              527380              530682   \n",
       "\n",
       "0 2024-03-01 00:00:00  \n",
       "0              676544  \n",
       "1              315275  \n",
       "2              591449  \n",
       "3              403037  \n",
       "4              512292  \n",
       "\n",
       "[5 rows x 353 columns]"
      ]
     },
     "execution_count": 13,
     "metadata": {},
     "output_type": "execute_result"
    }
   ],
   "source": [
    "# remove first row with redundant data\n",
    "# verify result\n",
    "\n",
    "df_cleaned = df_reset.drop(0).reset_index(drop=True)\n",
    "df_cleaned.head()"
   ]
  },
  {
   "cell_type": "code",
   "execution_count": 14,
   "id": "5ab93e5d",
   "metadata": {},
   "outputs": [
    {
     "data": {
      "text/plain": [
       "(48, 353)"
      ]
     },
     "execution_count": 14,
     "metadata": {},
     "output_type": "execute_result"
    }
   ],
   "source": [
    "# verify rows, columns \n",
    "df_cleaned.shape"
   ]
  },
  {
   "cell_type": "markdown",
   "id": "890bdf99",
   "metadata": {},
   "source": [
    "#### 2.3. Cleaning the data (part 2)"
   ]
  },
  {
   "cell_type": "markdown",
   "id": "362006ee",
   "metadata": {},
   "source": [
    "rename a couple of obvious columns"
   ]
  },
  {
   "cell_type": "code",
   "execution_count": 15,
   "id": "42c15b4f",
   "metadata": {},
   "outputs": [
    {
     "data": {
      "text/html": [
       "<div>\n",
       "<style scoped>\n",
       "    .dataframe tbody tr th:only-of-type {\n",
       "        vertical-align: middle;\n",
       "    }\n",
       "\n",
       "    .dataframe tbody tr th {\n",
       "        vertical-align: top;\n",
       "    }\n",
       "\n",
       "    .dataframe thead th {\n",
       "        text-align: right;\n",
       "    }\n",
       "</style>\n",
       "<table border=\"1\" class=\"dataframe\">\n",
       "  <thead>\n",
       "    <tr style=\"text-align: right;\">\n",
       "      <th></th>\n",
       "      <th>borough</th>\n",
       "      <th>ID</th>\n",
       "      <th>1995-01-01 00:00:00</th>\n",
       "      <th>1995-02-01 00:00:00</th>\n",
       "      <th>1995-03-01 00:00:00</th>\n",
       "      <th>1995-04-01 00:00:00</th>\n",
       "      <th>1995-05-01 00:00:00</th>\n",
       "      <th>1995-06-01 00:00:00</th>\n",
       "      <th>1995-07-01 00:00:00</th>\n",
       "      <th>1995-08-01 00:00:00</th>\n",
       "      <th>...</th>\n",
       "      <th>2023-06-01 00:00:00</th>\n",
       "      <th>2023-07-01 00:00:00</th>\n",
       "      <th>2023-08-01 00:00:00</th>\n",
       "      <th>2023-09-01 00:00:00</th>\n",
       "      <th>2023-10-01 00:00:00</th>\n",
       "      <th>2023-11-01 00:00:00</th>\n",
       "      <th>2023-12-01 00:00:00</th>\n",
       "      <th>2024-01-01 00:00:00</th>\n",
       "      <th>2024-02-01 00:00:00</th>\n",
       "      <th>2024-03-01 00:00:00</th>\n",
       "    </tr>\n",
       "  </thead>\n",
       "  <tbody>\n",
       "    <tr>\n",
       "      <th>0</th>\n",
       "      <td>City of London</td>\n",
       "      <td>E09000001</td>\n",
       "      <td>91449</td>\n",
       "      <td>82202.8</td>\n",
       "      <td>79120.7</td>\n",
       "      <td>77101.2</td>\n",
       "      <td>84409.1</td>\n",
       "      <td>94900.5</td>\n",
       "      <td>110128</td>\n",
       "      <td>112329</td>\n",
       "      <td>...</td>\n",
       "      <td>960267</td>\n",
       "      <td>967351</td>\n",
       "      <td>918300</td>\n",
       "      <td>879340</td>\n",
       "      <td>862513</td>\n",
       "      <td>818725</td>\n",
       "      <td>765053</td>\n",
       "      <td>745920</td>\n",
       "      <td>753200</td>\n",
       "      <td>676544</td>\n",
       "    </tr>\n",
       "    <tr>\n",
       "      <th>1</th>\n",
       "      <td>Barking &amp; Dagenham</td>\n",
       "      <td>E09000002</td>\n",
       "      <td>50460.2</td>\n",
       "      <td>51085.8</td>\n",
       "      <td>51269</td>\n",
       "      <td>53133.5</td>\n",
       "      <td>53042.2</td>\n",
       "      <td>53700.3</td>\n",
       "      <td>52113.1</td>\n",
       "      <td>52232.2</td>\n",
       "      <td>...</td>\n",
       "      <td>341062</td>\n",
       "      <td>339005</td>\n",
       "      <td>339326</td>\n",
       "      <td>337259</td>\n",
       "      <td>337522</td>\n",
       "      <td>341472</td>\n",
       "      <td>339780</td>\n",
       "      <td>326328</td>\n",
       "      <td>317476</td>\n",
       "      <td>315275</td>\n",
       "    </tr>\n",
       "    <tr>\n",
       "      <th>2</th>\n",
       "      <td>Barnet</td>\n",
       "      <td>E09000003</td>\n",
       "      <td>93284.5</td>\n",
       "      <td>93190.2</td>\n",
       "      <td>92247.5</td>\n",
       "      <td>90762.9</td>\n",
       "      <td>90258</td>\n",
       "      <td>90107.2</td>\n",
       "      <td>91441.2</td>\n",
       "      <td>92361.3</td>\n",
       "      <td>...</td>\n",
       "      <td>581623</td>\n",
       "      <td>583571</td>\n",
       "      <td>588157</td>\n",
       "      <td>587550</td>\n",
       "      <td>579748</td>\n",
       "      <td>580851</td>\n",
       "      <td>577726</td>\n",
       "      <td>576544</td>\n",
       "      <td>575585</td>\n",
       "      <td>591449</td>\n",
       "    </tr>\n",
       "    <tr>\n",
       "      <th>3</th>\n",
       "      <td>Bexley</td>\n",
       "      <td>E09000004</td>\n",
       "      <td>64958.1</td>\n",
       "      <td>64787.9</td>\n",
       "      <td>64367.5</td>\n",
       "      <td>64277.7</td>\n",
       "      <td>63997.1</td>\n",
       "      <td>64252.3</td>\n",
       "      <td>63722.7</td>\n",
       "      <td>64432.6</td>\n",
       "      <td>...</td>\n",
       "      <td>395789</td>\n",
       "      <td>397776</td>\n",
       "      <td>397210</td>\n",
       "      <td>398389</td>\n",
       "      <td>393944</td>\n",
       "      <td>398303</td>\n",
       "      <td>394620</td>\n",
       "      <td>394830</td>\n",
       "      <td>395463</td>\n",
       "      <td>403037</td>\n",
       "    </tr>\n",
       "    <tr>\n",
       "      <th>4</th>\n",
       "      <td>Brent</td>\n",
       "      <td>E09000005</td>\n",
       "      <td>71306.6</td>\n",
       "      <td>72022.3</td>\n",
       "      <td>72015.8</td>\n",
       "      <td>72965.6</td>\n",
       "      <td>73704</td>\n",
       "      <td>74310.5</td>\n",
       "      <td>74127</td>\n",
       "      <td>73547</td>\n",
       "      <td>...</td>\n",
       "      <td>516817</td>\n",
       "      <td>511865</td>\n",
       "      <td>528739</td>\n",
       "      <td>528787</td>\n",
       "      <td>528411</td>\n",
       "      <td>514028</td>\n",
       "      <td>510416</td>\n",
       "      <td>527380</td>\n",
       "      <td>530682</td>\n",
       "      <td>512292</td>\n",
       "    </tr>\n",
       "  </tbody>\n",
       "</table>\n",
       "<p>5 rows × 353 columns</p>\n",
       "</div>"
      ],
      "text/plain": [
       "0             borough         ID 1995-01-01 00:00:00 1995-02-01 00:00:00  \\\n",
       "0      City of London  E09000001               91449             82202.8   \n",
       "1  Barking & Dagenham  E09000002             50460.2             51085.8   \n",
       "2              Barnet  E09000003             93284.5             93190.2   \n",
       "3              Bexley  E09000004             64958.1             64787.9   \n",
       "4               Brent  E09000005             71306.6             72022.3   \n",
       "\n",
       "0 1995-03-01 00:00:00 1995-04-01 00:00:00 1995-05-01 00:00:00  \\\n",
       "0             79120.7             77101.2             84409.1   \n",
       "1               51269             53133.5             53042.2   \n",
       "2             92247.5             90762.9               90258   \n",
       "3             64367.5             64277.7             63997.1   \n",
       "4             72015.8             72965.6               73704   \n",
       "\n",
       "0 1995-06-01 00:00:00 1995-07-01 00:00:00 1995-08-01 00:00:00  ...  \\\n",
       "0             94900.5              110128              112329  ...   \n",
       "1             53700.3             52113.1             52232.2  ...   \n",
       "2             90107.2             91441.2             92361.3  ...   \n",
       "3             64252.3             63722.7             64432.6  ...   \n",
       "4             74310.5               74127               73547  ...   \n",
       "\n",
       "0 2023-06-01 00:00:00 2023-07-01 00:00:00 2023-08-01 00:00:00  \\\n",
       "0              960267              967351              918300   \n",
       "1              341062              339005              339326   \n",
       "2              581623              583571              588157   \n",
       "3              395789              397776              397210   \n",
       "4              516817              511865              528739   \n",
       "\n",
       "0 2023-09-01 00:00:00 2023-10-01 00:00:00 2023-11-01 00:00:00  \\\n",
       "0              879340              862513              818725   \n",
       "1              337259              337522              341472   \n",
       "2              587550              579748              580851   \n",
       "3              398389              393944              398303   \n",
       "4              528787              528411              514028   \n",
       "\n",
       "0 2023-12-01 00:00:00 2024-01-01 00:00:00 2024-02-01 00:00:00  \\\n",
       "0              765053              745920              753200   \n",
       "1              339780              326328              317476   \n",
       "2              577726              576544              575585   \n",
       "3              394620              394830              395463   \n",
       "4              510416              527380              530682   \n",
       "\n",
       "0 2024-03-01 00:00:00  \n",
       "0              676544  \n",
       "1              315275  \n",
       "2              591449  \n",
       "3              403037  \n",
       "4              512292  \n",
       "\n",
       "[5 rows x 353 columns]"
      ]
     },
     "execution_count": 15,
     "metadata": {},
     "output_type": "execute_result"
    }
   ],
   "source": [
    "# grab the 1st two columns\n",
    "# rename appropriately\n",
    "\n",
    "col_0 = df_cleaned.columns[0]\n",
    "col_1 = df_cleaned.columns[1]\n",
    "df_cleaned.rename(columns={col_0:'borough',col_1:'ID'},inplace=True)\n",
    "df_cleaned.head()"
   ]
  },
  {
   "cell_type": "markdown",
   "id": "dcd058d0",
   "metadata": {},
   "source": [
    "#### 2.4. Transforming the data"
   ]
  },
  {
   "cell_type": "code",
   "execution_count": 16,
   "id": "12d26aaf",
   "metadata": {},
   "outputs": [],
   "source": [
    "# [3] melt dataframe\n",
    "# specify columns to retain and variable to generate\n",
    "df_melted = pd.melt(df_cleaned, id_vars = [\"borough\",\"ID\"],var_name =\"date\",value_name=\"price\")"
   ]
  },
  {
   "cell_type": "code",
   "execution_count": 17,
   "id": "23a8716b",
   "metadata": {},
   "outputs": [
    {
     "data": {
      "text/html": [
       "<div>\n",
       "<style scoped>\n",
       "    .dataframe tbody tr th:only-of-type {\n",
       "        vertical-align: middle;\n",
       "    }\n",
       "\n",
       "    .dataframe tbody tr th {\n",
       "        vertical-align: top;\n",
       "    }\n",
       "\n",
       "    .dataframe thead th {\n",
       "        text-align: right;\n",
       "    }\n",
       "</style>\n",
       "<table border=\"1\" class=\"dataframe\">\n",
       "  <thead>\n",
       "    <tr style=\"text-align: right;\">\n",
       "      <th></th>\n",
       "      <th>borough</th>\n",
       "      <th>ID</th>\n",
       "      <th>date</th>\n",
       "      <th>price</th>\n",
       "    </tr>\n",
       "  </thead>\n",
       "  <tbody>\n",
       "    <tr>\n",
       "      <th>0</th>\n",
       "      <td>City of London</td>\n",
       "      <td>E09000001</td>\n",
       "      <td>1995-01-01</td>\n",
       "      <td>91449</td>\n",
       "    </tr>\n",
       "    <tr>\n",
       "      <th>1</th>\n",
       "      <td>Barking &amp; Dagenham</td>\n",
       "      <td>E09000002</td>\n",
       "      <td>1995-01-01</td>\n",
       "      <td>50460.2</td>\n",
       "    </tr>\n",
       "    <tr>\n",
       "      <th>2</th>\n",
       "      <td>Barnet</td>\n",
       "      <td>E09000003</td>\n",
       "      <td>1995-01-01</td>\n",
       "      <td>93284.5</td>\n",
       "    </tr>\n",
       "    <tr>\n",
       "      <th>3</th>\n",
       "      <td>Bexley</td>\n",
       "      <td>E09000004</td>\n",
       "      <td>1995-01-01</td>\n",
       "      <td>64958.1</td>\n",
       "    </tr>\n",
       "    <tr>\n",
       "      <th>4</th>\n",
       "      <td>Brent</td>\n",
       "      <td>E09000005</td>\n",
       "      <td>1995-01-01</td>\n",
       "      <td>71306.6</td>\n",
       "    </tr>\n",
       "  </tbody>\n",
       "</table>\n",
       "</div>"
      ],
      "text/plain": [
       "              borough         ID       date    price\n",
       "0      City of London  E09000001 1995-01-01    91449\n",
       "1  Barking & Dagenham  E09000002 1995-01-01  50460.2\n",
       "2              Barnet  E09000003 1995-01-01  93284.5\n",
       "3              Bexley  E09000004 1995-01-01  64958.1\n",
       "4               Brent  E09000005 1995-01-01  71306.6"
      ]
     },
     "execution_count": 17,
     "metadata": {},
     "output_type": "execute_result"
    }
   ],
   "source": [
    "# view the resulting 'melted' df\n",
    "df_melted.head()"
   ]
  },
  {
   "cell_type": "code",
   "execution_count": 18,
   "id": "9ee32f06",
   "metadata": {},
   "outputs": [
    {
     "data": {
      "text/plain": [
       "borough            object\n",
       "ID                 object\n",
       "date       datetime64[ns]\n",
       "price              object\n",
       "dtype: object"
      ]
     },
     "execution_count": 18,
     "metadata": {},
     "output_type": "execute_result"
    }
   ],
   "source": [
    "# check datatypes\n",
    "df_melted.dtypes"
   ]
  },
  {
   "cell_type": "code",
   "execution_count": 19,
   "id": "aacb854c",
   "metadata": {},
   "outputs": [],
   "source": [
    "# convert to numeric for price column\n",
    "df_melted['price'] = pd.to_numeric(df_melted['price'], errors ='coerce')"
   ]
  },
  {
   "cell_type": "code",
   "execution_count": 20,
   "id": "eca00511",
   "metadata": {},
   "outputs": [
    {
     "name": "stdout",
     "output_type": "stream",
     "text": [
      "borough            object\n",
      "ID                 object\n",
      "date       datetime64[ns]\n",
      "price             float64\n",
      "dtype: object\n"
     ]
    },
    {
     "data": {
      "text/html": [
       "<div>\n",
       "<style scoped>\n",
       "    .dataframe tbody tr th:only-of-type {\n",
       "        vertical-align: middle;\n",
       "    }\n",
       "\n",
       "    .dataframe tbody tr th {\n",
       "        vertical-align: top;\n",
       "    }\n",
       "\n",
       "    .dataframe thead th {\n",
       "        text-align: right;\n",
       "    }\n",
       "</style>\n",
       "<table border=\"1\" class=\"dataframe\">\n",
       "  <thead>\n",
       "    <tr style=\"text-align: right;\">\n",
       "      <th></th>\n",
       "      <th>borough</th>\n",
       "      <th>ID</th>\n",
       "      <th>date</th>\n",
       "      <th>price</th>\n",
       "    </tr>\n",
       "  </thead>\n",
       "  <tbody>\n",
       "    <tr>\n",
       "      <th>0</th>\n",
       "      <td>City of London</td>\n",
       "      <td>E09000001</td>\n",
       "      <td>1995-01-01</td>\n",
       "      <td>91448.98487</td>\n",
       "    </tr>\n",
       "    <tr>\n",
       "      <th>1</th>\n",
       "      <td>Barking &amp; Dagenham</td>\n",
       "      <td>E09000002</td>\n",
       "      <td>1995-01-01</td>\n",
       "      <td>50460.22660</td>\n",
       "    </tr>\n",
       "    <tr>\n",
       "      <th>2</th>\n",
       "      <td>Barnet</td>\n",
       "      <td>E09000003</td>\n",
       "      <td>1995-01-01</td>\n",
       "      <td>93284.51832</td>\n",
       "    </tr>\n",
       "    <tr>\n",
       "      <th>3</th>\n",
       "      <td>Bexley</td>\n",
       "      <td>E09000004</td>\n",
       "      <td>1995-01-01</td>\n",
       "      <td>64958.09036</td>\n",
       "    </tr>\n",
       "    <tr>\n",
       "      <th>4</th>\n",
       "      <td>Brent</td>\n",
       "      <td>E09000005</td>\n",
       "      <td>1995-01-01</td>\n",
       "      <td>71306.56698</td>\n",
       "    </tr>\n",
       "  </tbody>\n",
       "</table>\n",
       "</div>"
      ],
      "text/plain": [
       "              borough         ID       date        price\n",
       "0      City of London  E09000001 1995-01-01  91448.98487\n",
       "1  Barking & Dagenham  E09000002 1995-01-01  50460.22660\n",
       "2              Barnet  E09000003 1995-01-01  93284.51832\n",
       "3              Bexley  E09000004 1995-01-01  64958.09036\n",
       "4               Brent  E09000005 1995-01-01  71306.56698"
      ]
     },
     "execution_count": 20,
     "metadata": {},
     "output_type": "execute_result"
    }
   ],
   "source": [
    "# verify price column successfully converted to numeric\n",
    "\n",
    "print(df_melted.dtypes)\n",
    "df_melted.head()"
   ]
  },
  {
   "cell_type": "code",
   "execution_count": 21,
   "id": "87944ff1",
   "metadata": {},
   "outputs": [],
   "source": [
    "# [5] pandas attribute to month\n",
    "# generate column with month\n",
    "df_melted['month'] = df_melted['date'].dt.month"
   ]
  },
  {
   "cell_type": "code",
   "execution_count": 22,
   "id": "d6638493",
   "metadata": {},
   "outputs": [],
   "source": [
    "# [5] pandas attribute to year\n",
    "# generate column with year\n",
    "df_melted['year'] = df_melted['date'].dt.year"
   ]
  },
  {
   "cell_type": "code",
   "execution_count": 23,
   "id": "9eb4f74a",
   "metadata": {},
   "outputs": [
    {
     "name": "stdout",
     "output_type": "stream",
     "text": [
      "borough            object\n",
      "ID                 object\n",
      "date       datetime64[ns]\n",
      "price             float64\n",
      "month               int64\n",
      "year                int64\n",
      "dtype: object\n"
     ]
    },
    {
     "data": {
      "text/html": [
       "<div>\n",
       "<style scoped>\n",
       "    .dataframe tbody tr th:only-of-type {\n",
       "        vertical-align: middle;\n",
       "    }\n",
       "\n",
       "    .dataframe tbody tr th {\n",
       "        vertical-align: top;\n",
       "    }\n",
       "\n",
       "    .dataframe thead th {\n",
       "        text-align: right;\n",
       "    }\n",
       "</style>\n",
       "<table border=\"1\" class=\"dataframe\">\n",
       "  <thead>\n",
       "    <tr style=\"text-align: right;\">\n",
       "      <th></th>\n",
       "      <th>borough</th>\n",
       "      <th>ID</th>\n",
       "      <th>date</th>\n",
       "      <th>price</th>\n",
       "      <th>month</th>\n",
       "      <th>year</th>\n",
       "    </tr>\n",
       "  </thead>\n",
       "  <tbody>\n",
       "    <tr>\n",
       "      <th>0</th>\n",
       "      <td>City of London</td>\n",
       "      <td>E09000001</td>\n",
       "      <td>1995-01-01</td>\n",
       "      <td>91448.98487</td>\n",
       "      <td>1</td>\n",
       "      <td>1995</td>\n",
       "    </tr>\n",
       "    <tr>\n",
       "      <th>1</th>\n",
       "      <td>Barking &amp; Dagenham</td>\n",
       "      <td>E09000002</td>\n",
       "      <td>1995-01-01</td>\n",
       "      <td>50460.22660</td>\n",
       "      <td>1</td>\n",
       "      <td>1995</td>\n",
       "    </tr>\n",
       "    <tr>\n",
       "      <th>2</th>\n",
       "      <td>Barnet</td>\n",
       "      <td>E09000003</td>\n",
       "      <td>1995-01-01</td>\n",
       "      <td>93284.51832</td>\n",
       "      <td>1</td>\n",
       "      <td>1995</td>\n",
       "    </tr>\n",
       "    <tr>\n",
       "      <th>3</th>\n",
       "      <td>Bexley</td>\n",
       "      <td>E09000004</td>\n",
       "      <td>1995-01-01</td>\n",
       "      <td>64958.09036</td>\n",
       "      <td>1</td>\n",
       "      <td>1995</td>\n",
       "    </tr>\n",
       "    <tr>\n",
       "      <th>4</th>\n",
       "      <td>Brent</td>\n",
       "      <td>E09000005</td>\n",
       "      <td>1995-01-01</td>\n",
       "      <td>71306.56698</td>\n",
       "      <td>1</td>\n",
       "      <td>1995</td>\n",
       "    </tr>\n",
       "  </tbody>\n",
       "</table>\n",
       "</div>"
      ],
      "text/plain": [
       "              borough         ID       date        price  month  year\n",
       "0      City of London  E09000001 1995-01-01  91448.98487      1  1995\n",
       "1  Barking & Dagenham  E09000002 1995-01-01  50460.22660      1  1995\n",
       "2              Barnet  E09000003 1995-01-01  93284.51832      1  1995\n",
       "3              Bexley  E09000004 1995-01-01  64958.09036      1  1995\n",
       "4               Brent  E09000005 1995-01-01  71306.56698      1  1995"
      ]
     },
     "execution_count": 23,
     "metadata": {},
     "output_type": "execute_result"
    }
   ],
   "source": [
    "# check out dataframe with month/ year columns\n",
    "print(df_melted.dtypes)\n",
    "df_melted.head()"
   ]
  },
  {
   "cell_type": "markdown",
   "id": "63e02126",
   "metadata": {},
   "source": [
    "#### 2.5. Cleaning the data (part 3)"
   ]
  },
  {
   "cell_type": "code",
   "execution_count": 24,
   "id": "9eaa3ab5",
   "metadata": {},
   "outputs": [
    {
     "data": {
      "text/plain": [
       "borough       0\n",
       "ID         1053\n",
       "date          0\n",
       "price      1053\n",
       "month         0\n",
       "year          0\n",
       "dtype: int64"
      ]
     },
     "execution_count": 24,
     "metadata": {},
     "output_type": "execute_result"
    }
   ],
   "source": [
    "# check for null quantities \n",
    "df_melted.isnull().sum()"
   ]
  },
  {
   "cell_type": "code",
   "execution_count": 25,
   "id": "7b1e1b9a",
   "metadata": {
    "scrolled": true
   },
   "outputs": [
    {
     "name": "stdout",
     "output_type": "stream",
     "text": [
      "<class 'pandas.core.frame.DataFrame'>\n",
      "RangeIndex: 16848 entries, 0 to 16847\n",
      "Data columns (total 6 columns):\n",
      " #   Column   Non-Null Count  Dtype         \n",
      "---  ------   --------------  -----         \n",
      " 0   borough  16848 non-null  object        \n",
      " 1   ID       15795 non-null  object        \n",
      " 2   date     16848 non-null  datetime64[ns]\n",
      " 3   price    15795 non-null  float64       \n",
      " 4   month    16848 non-null  int64         \n",
      " 5   year     16848 non-null  int64         \n",
      "dtypes: datetime64[ns](1), float64(1), int64(2), object(2)\n",
      "memory usage: 789.9+ KB\n"
     ]
    }
   ],
   "source": [
    "# check for null quantities \n",
    "df_melted.info()"
   ]
  },
  {
   "cell_type": "code",
   "execution_count": 26,
   "id": "55b0f74c",
   "metadata": {},
   "outputs": [],
   "source": [
    "# drop rows with nulls present\n",
    "df_refined = df_melted.dropna()"
   ]
  },
  {
   "cell_type": "code",
   "execution_count": 27,
   "id": "4734a52f",
   "metadata": {},
   "outputs": [
    {
     "name": "stdout",
     "output_type": "stream",
     "text": [
      "<class 'pandas.core.frame.DataFrame'>\n",
      "Int64Index: 15795 entries, 0 to 16847\n",
      "Data columns (total 6 columns):\n",
      " #   Column   Non-Null Count  Dtype         \n",
      "---  ------   --------------  -----         \n",
      " 0   borough  15795 non-null  object        \n",
      " 1   ID       15795 non-null  object        \n",
      " 2   date     15795 non-null  datetime64[ns]\n",
      " 3   price    15795 non-null  float64       \n",
      " 4   month    15795 non-null  int64         \n",
      " 5   year     15795 non-null  int64         \n",
      "dtypes: datetime64[ns](1), float64(1), int64(2), object(2)\n",
      "memory usage: 863.8+ KB\n"
     ]
    }
   ],
   "source": [
    "# verify null qty / equal entries\n",
    "df_refined.info()"
   ]
  },
  {
   "cell_type": "code",
   "execution_count": 28,
   "id": "8d1beb70",
   "metadata": {},
   "outputs": [
    {
     "data": {
      "text/plain": [
       "45"
      ]
     },
     "execution_count": 28,
     "metadata": {},
     "output_type": "execute_result"
    }
   ],
   "source": [
    "# verify qty of unique boroughs \n",
    "df_refined['borough'].nunique()"
   ]
  },
  {
   "cell_type": "markdown",
   "id": "c03c2c18",
   "metadata": {},
   "source": [
    "we have 45 detected unique boroughs, but we should only have 32. So we'll need to reference a list of boroughs [2] to then cross reference what rows are not part of the study. "
   ]
  },
  {
   "cell_type": "code",
   "execution_count": 29,
   "id": "ece0e4b0",
   "metadata": {},
   "outputs": [
    {
     "data": {
      "text/plain": [
       "32"
      ]
     },
     "execution_count": 29,
     "metadata": {},
     "output_type": "execute_result"
    }
   ],
   "source": [
    "# referenced from [2]\n",
    "# this is our list to cross reference for true boroughs\n",
    "# verify list count = 32\n",
    "\n",
    "borough_list =[\n",
    "    'Barking & Dagenham',\n",
    "    'Barnet',\n",
    "    'Bexley',\n",
    "    'Brent',\n",
    "    'Bromley',\n",
    "    'Camden',\n",
    "    'Croydon',\n",
    "    'Ealing',\n",
    "    'Enfield',\n",
    "    'Greenwich',\n",
    "    'Hackney',\n",
    "    'Hammersmith & Fulham',\n",
    "    'Haringey',\n",
    "    'Harrow',\n",
    "    'Havering',\n",
    "    'Hillingdon',\n",
    "    'Hounslow',\n",
    "    'Islington',\n",
    "    'Kensington & Chelsea',\n",
    "    'Kingston upon Thames',\n",
    "    'Lambeth',\n",
    "    'Lewisham',\n",
    "    'Merton',\n",
    "    'Newham',\n",
    "    'Redbridge',\n",
    "    'Richmond upon Thames',\n",
    "    'Southwark',\n",
    "    'Sutton',\n",
    "    'Tower Hamlets',\n",
    "    'Waltham Forest',\n",
    "    'Wandsworth',\n",
    "    'Westminster'\n",
    "]\n",
    "\n",
    "len(borough_list)"
   ]
  },
  {
   "cell_type": "code",
   "execution_count": 30,
   "id": "159d3db9",
   "metadata": {},
   "outputs": [
    {
     "data": {
      "text/plain": [
       "['City of London',\n",
       " 'Inner London',\n",
       " 'Outer London',\n",
       " 'NORTH EAST',\n",
       " 'NORTH WEST',\n",
       " 'YORKS & THE HUMBER',\n",
       " 'EAST MIDLANDS',\n",
       " 'WEST MIDLANDS',\n",
       " 'EAST OF ENGLAND',\n",
       " 'LONDON',\n",
       " 'SOUTH EAST',\n",
       " 'SOUTH WEST',\n",
       " 'England']"
      ]
     },
     "execution_count": 30,
     "metadata": {},
     "output_type": "execute_result"
    }
   ],
   "source": [
    "# identifying the boroughs not part of the unique 32 \n",
    "# through process of elimination\n",
    "\n",
    "unaccounted_boroughs = [borough for borough in df_refined['borough'].unique() if borough not in borough_list]\n",
    "unaccounted_boroughs"
   ]
  },
  {
   "cell_type": "code",
   "execution_count": 31,
   "id": "b300cd04",
   "metadata": {},
   "outputs": [
    {
     "data": {
      "text/plain": [
       "Int64Index([    0,    34,    35,    37,    38,    39,    40,    41,    42,\n",
       "               43,\n",
       "            ...\n",
       "            16837, 16838, 16839, 16840, 16841, 16842, 16843, 16844, 16845,\n",
       "            16847],\n",
       "           dtype='int64', length=4563)"
      ]
     },
     "execution_count": 31,
     "metadata": {},
     "output_type": "execute_result"
    }
   ],
   "source": [
    "# now let's identify the indices of the dataframe to remove these rows\n",
    "# corresponding to the irrelevant boroughs.\n",
    "# verify result\n",
    "\n",
    "mask = df_refined['borough'].isin(unaccounted_boroughs)\n",
    "indices = df_refined[mask].index\n",
    "indices"
   ]
  },
  {
   "cell_type": "code",
   "execution_count": 32,
   "id": "b77e5280",
   "metadata": {},
   "outputs": [
    {
     "data": {
      "text/html": [
       "<div>\n",
       "<style scoped>\n",
       "    .dataframe tbody tr th:only-of-type {\n",
       "        vertical-align: middle;\n",
       "    }\n",
       "\n",
       "    .dataframe tbody tr th {\n",
       "        vertical-align: top;\n",
       "    }\n",
       "\n",
       "    .dataframe thead th {\n",
       "        text-align: right;\n",
       "    }\n",
       "</style>\n",
       "<table border=\"1\" class=\"dataframe\">\n",
       "  <thead>\n",
       "    <tr style=\"text-align: right;\">\n",
       "      <th></th>\n",
       "      <th>borough</th>\n",
       "      <th>ID</th>\n",
       "      <th>date</th>\n",
       "      <th>price</th>\n",
       "      <th>month</th>\n",
       "      <th>year</th>\n",
       "    </tr>\n",
       "  </thead>\n",
       "  <tbody>\n",
       "    <tr>\n",
       "      <th>1</th>\n",
       "      <td>Barking &amp; Dagenham</td>\n",
       "      <td>E09000002</td>\n",
       "      <td>1995-01-01</td>\n",
       "      <td>50460.22660</td>\n",
       "      <td>1</td>\n",
       "      <td>1995</td>\n",
       "    </tr>\n",
       "    <tr>\n",
       "      <th>2</th>\n",
       "      <td>Barnet</td>\n",
       "      <td>E09000003</td>\n",
       "      <td>1995-01-01</td>\n",
       "      <td>93284.51832</td>\n",
       "      <td>1</td>\n",
       "      <td>1995</td>\n",
       "    </tr>\n",
       "    <tr>\n",
       "      <th>3</th>\n",
       "      <td>Bexley</td>\n",
       "      <td>E09000004</td>\n",
       "      <td>1995-01-01</td>\n",
       "      <td>64958.09036</td>\n",
       "      <td>1</td>\n",
       "      <td>1995</td>\n",
       "    </tr>\n",
       "    <tr>\n",
       "      <th>4</th>\n",
       "      <td>Brent</td>\n",
       "      <td>E09000005</td>\n",
       "      <td>1995-01-01</td>\n",
       "      <td>71306.56698</td>\n",
       "      <td>1</td>\n",
       "      <td>1995</td>\n",
       "    </tr>\n",
       "    <tr>\n",
       "      <th>5</th>\n",
       "      <td>Bromley</td>\n",
       "      <td>E09000006</td>\n",
       "      <td>1995-01-01</td>\n",
       "      <td>81671.47692</td>\n",
       "      <td>1</td>\n",
       "      <td>1995</td>\n",
       "    </tr>\n",
       "  </tbody>\n",
       "</table>\n",
       "</div>"
      ],
      "text/plain": [
       "              borough         ID       date        price  month  year\n",
       "1  Barking & Dagenham  E09000002 1995-01-01  50460.22660      1  1995\n",
       "2              Barnet  E09000003 1995-01-01  93284.51832      1  1995\n",
       "3              Bexley  E09000004 1995-01-01  64958.09036      1  1995\n",
       "4               Brent  E09000005 1995-01-01  71306.56698      1  1995\n",
       "5             Bromley  E09000006 1995-01-01  81671.47692      1  1995"
      ]
     },
     "execution_count": 32,
     "metadata": {},
     "output_type": "execute_result"
    }
   ],
   "source": [
    "# create refined2 dataframe \n",
    "# from dropping indices with irrelevant boroughs\n",
    "# verify result\n",
    "\n",
    "df_refined2 = df_refined.drop(indices)\n",
    "df_refined2.head()"
   ]
  },
  {
   "cell_type": "code",
   "execution_count": 33,
   "id": "f0f4b7da",
   "metadata": {},
   "outputs": [
    {
     "name": "stdout",
     "output_type": "stream",
     "text": [
      "32\n"
     ]
    },
    {
     "data": {
      "text/plain": [
       "array(['Barking & Dagenham', 'Barnet', 'Bexley', 'Brent', 'Bromley',\n",
       "       'Camden', 'Croydon', 'Ealing', 'Enfield', 'Greenwich', 'Hackney',\n",
       "       'Hammersmith & Fulham', 'Haringey', 'Harrow', 'Havering',\n",
       "       'Hillingdon', 'Hounslow', 'Islington', 'Kensington & Chelsea',\n",
       "       'Kingston upon Thames', 'Lambeth', 'Lewisham', 'Merton', 'Newham',\n",
       "       'Redbridge', 'Richmond upon Thames', 'Southwark', 'Sutton',\n",
       "       'Tower Hamlets', 'Waltham Forest', 'Wandsworth', 'Westminster'],\n",
       "      dtype=object)"
      ]
     },
     "execution_count": 33,
     "metadata": {},
     "output_type": "execute_result"
    }
   ],
   "source": [
    "# verify all 32 boroughs are in the refined2 dataframe\n",
    "\n",
    "all_boroughs = df_refined2['borough'].unique()\n",
    "print(len(all_boroughs))\n",
    "all_boroughs"
   ]
  },
  {
   "cell_type": "code",
   "execution_count": 34,
   "id": "30cc6f67",
   "metadata": {
    "scrolled": true
   },
   "outputs": [
    {
     "name": "stdout",
     "output_type": "stream",
     "text": [
      "<class 'pandas.core.frame.DataFrame'>\n",
      "Int64Index: 11232 entries, 1 to 16832\n",
      "Data columns (total 6 columns):\n",
      " #   Column   Non-Null Count  Dtype         \n",
      "---  ------   --------------  -----         \n",
      " 0   borough  11232 non-null  object        \n",
      " 1   ID       11232 non-null  object        \n",
      " 2   date     11232 non-null  datetime64[ns]\n",
      " 3   price    11232 non-null  float64       \n",
      " 4   month    11232 non-null  int64         \n",
      " 5   year     11232 non-null  int64         \n",
      "dtypes: datetime64[ns](1), float64(1), int64(2), object(2)\n",
      "memory usage: 614.2+ KB\n"
     ]
    }
   ],
   "source": [
    "# verify qty entries and dtypes \n",
    "df_refined2.info()"
   ]
  },
  {
   "cell_type": "markdown",
   "id": "3d12dcd2",
   "metadata": {},
   "source": [
    "#### 2.6. Visualizing the data"
   ]
  },
  {
   "cell_type": "code",
   "execution_count": 35,
   "id": "1d7c570c",
   "metadata": {},
   "outputs": [
    {
     "data": {
      "text/plain": [
       "array(['Barking & Dagenham', 'Barnet', 'Bexley', 'Brent', 'Bromley',\n",
       "       'Camden', 'Croydon', 'Ealing', 'Enfield', 'Greenwich', 'Hackney',\n",
       "       'Hammersmith & Fulham', 'Haringey', 'Harrow', 'Havering',\n",
       "       'Hillingdon', 'Hounslow', 'Islington', 'Kensington & Chelsea',\n",
       "       'Kingston upon Thames', 'Lambeth', 'Lewisham', 'Merton', 'Newham',\n",
       "       'Redbridge', 'Richmond upon Thames', 'Southwark', 'Sutton',\n",
       "       'Tower Hamlets', 'Waltham Forest', 'Wandsworth', 'Westminster'],\n",
       "      dtype=object)"
      ]
     },
     "execution_count": 35,
     "metadata": {},
     "output_type": "execute_result"
    }
   ],
   "source": [
    "# view all 32 boroughs from the data\n",
    "all_boroughs"
   ]
  },
  {
   "cell_type": "code",
   "execution_count": 36,
   "id": "6f2fe5cc",
   "metadata": {},
   "outputs": [
    {
     "data": {
      "text/plain": [
       "array([1995, 1996, 1997, 1998, 1999, 2000, 2001, 2002, 2003, 2004, 2005,\n",
       "       2006, 2007, 2008, 2009, 2010, 2011, 2012, 2013, 2014, 2015, 2016,\n",
       "       2017, 2018, 2019, 2020, 2021, 2022, 2023, 2024], dtype=int64)"
      ]
     },
     "execution_count": 36,
     "metadata": {},
     "output_type": "execute_result"
    }
   ],
   "source": [
    "# view all years from the data\n",
    "all_years = df_refined2['year'].unique()\n",
    "all_years"
   ]
  },
  {
   "cell_type": "code",
   "execution_count": 37,
   "id": "38234dc7",
   "metadata": {
    "scrolled": true
   },
   "outputs": [
    {
     "data": {
      "image/png": "[encoded data removed]",
      "text/plain": [
       "<Figure size 432x288 with 1 Axes>"
      ]
     },
     "metadata": {
      "needs_background": "light"
     },
     "output_type": "display_data"
    }
   ],
   "source": [
    "# select year and borough\n",
    "borough = all_boroughs[0]\n",
    "year = all_years[0]\n",
    "\n",
    "# set up dataframe\n",
    "mask = (df_refined2['borough'] == borough) & (df_refined2['year'] == year) \n",
    "df = df_refined2[mask]\n",
    "\n",
    "# plotting the line plot\n",
    "df.plot(x='month', y='price', kind='line', marker='o')\n",
    "plt.title(f'Average Price per Month: {borough} | {year}')\n",
    "plt.xlabel('Month')\n",
    "plt.ylabel('Price')\n",
    "\n",
    "plt.xticks(ticks=range(1,13), labels=range(1, 13));\n"
   ]
  },
  {
   "cell_type": "markdown",
   "id": "e90cf783",
   "metadata": {},
   "source": [
    "#### 3. Modeling"
   ]
  },
  {
   "cell_type": "code",
   "execution_count": 38,
   "id": "0d657dc5",
   "metadata": {
    "scrolled": false
   },
   "outputs": [
    {
     "data": {
      "text/plain": [
       "array(['Barking & Dagenham', 'Barnet', 'Bexley', 'Brent', 'Bromley',\n",
       "       'Camden', 'Croydon', 'Ealing', 'Enfield', 'Greenwich', 'Hackney',\n",
       "       'Hammersmith & Fulham', 'Haringey', 'Harrow', 'Havering',\n",
       "       'Hillingdon', 'Hounslow', 'Islington', 'Kensington & Chelsea',\n",
       "       'Kingston upon Thames', 'Lambeth', 'Lewisham', 'Merton', 'Newham',\n",
       "       'Redbridge', 'Richmond upon Thames', 'Southwark', 'Sutton',\n",
       "       'Tower Hamlets', 'Waltham Forest', 'Wandsworth', 'Westminster'],\n",
       "      dtype=object)"
      ]
     },
     "execution_count": 38,
     "metadata": {},
     "output_type": "execute_result"
    }
   ],
   "source": [
    "# view all boroughs \n",
    "all_boroughs"
   ]
  },
  {
   "cell_type": "code",
   "execution_count": 39,
   "id": "d44131dd",
   "metadata": {},
   "outputs": [],
   "source": [
    "# function to create 1998/2018 ratios\n",
    "# input is a string of the desired borough\n",
    "\n",
    "def create_price_ratio(borough):\n",
    "    # set up dataframe\n",
    "    mask = df_refined2['borough'] == borough\n",
    "    df = df_refined2[mask]\n",
    "    \n",
    "    yr1 = 1998\n",
    "    yr2 = 2018\n",
    "    \n",
    "    mask_yr1 = df['year'] == yr1\n",
    "    avg_price_1998 = df[mask_yr1]['price'].mean()\n",
    "    \n",
    "    mask_yr2 = df['year'] == yr2\n",
    "    avg_price_2018 = df[mask_yr2]['price'].mean()\n",
    "    \n",
    "    ratio = avg_price_1998 / avg_price_2018\n",
    "    \n",
    "    return ratio"
   ]
  },
  {
   "cell_type": "code",
   "execution_count": 40,
   "id": "d22c9c92",
   "metadata": {},
   "outputs": [],
   "source": [
    "# collect all ratios per borough in a dictionary\n",
    "# for loop iteration\n",
    "\n",
    "ratios_all = {}\n",
    "\n",
    "for borough in all_boroughs: \n",
    "    \n",
    "    ratio_entry = create_price_ratio(borough)\n",
    "    ratios_all[borough] = ratio_entry"
   ]
  },
  {
   "cell_type": "code",
   "execution_count": 41,
   "id": "665ff9f6",
   "metadata": {},
   "outputs": [],
   "source": [
    "# create a dataframe of boroughs and ratios \n",
    "# for plotting purposes\n",
    "\n",
    "ratios_all_df = pd.DataFrame(data=list(ratios_all.items()), columns =['borough','ratio'])"
   ]
  },
  {
   "cell_type": "markdown",
   "id": "aca137c2",
   "metadata": {},
   "source": [
    "### 4. Conclusion"
   ]
  },
  {
   "cell_type": "markdown",
   "id": "5d055c5c",
   "metadata": {},
   "source": [
    "The horizontal bar plot below shows the ratios of 1998/2018 average price sorted. Hackney comes out on top as the Borough with the greatest average price increase over the course of two decades from 1998 to 2018. "
   ]
  },
  {
   "cell_type": "code",
   "execution_count": 42,
   "id": "5ca19a12",
   "metadata": {
    "scrolled": false
   },
   "outputs": [
    {
     "data": {
      "image/png": "[encoded data removed]",
      "text/plain": [
       "<Figure size 720x720 with 1 Axes>"
      ]
     },
     "metadata": {
      "needs_background": "light"
     },
     "output_type": "display_data"
    }
   ],
   "source": [
    "plt.figure(figsize=(10, 10))\n",
    "\n",
    "# modify df to be sorted by ratio column\n",
    "df_sorted = ratios_all_df.sort_values(by=\"ratio\",ascending=False)\n",
    "\n",
    "# horizontal bar plot\n",
    "plt.barh(df_sorted['borough'],df_sorted['ratio'], color='skyblue')\n",
    "plt.xlabel('Price Ratio')\n",
    "plt.ylabel('Borough')\n",
    "plt.title('Average Price Ratios (1998 | 2018) by Borough')\n",
    "plt.xticks(rotation=75);"
   ]
  },
  {
   "cell_type": "markdown",
   "id": "876d9b0a",
   "metadata": {},
   "source": [
    "Let's determine the price increase of borough Hackney from 1998 to 2018."
   ]
  },
  {
   "cell_type": "code",
   "execution_count": 43,
   "id": "6d3ce565",
   "metadata": {},
   "outputs": [
    {
     "data": {
      "text/plain": [
       "0.16133493530705734"
      ]
     },
     "execution_count": 43,
     "metadata": {},
     "output_type": "execute_result"
    }
   ],
   "source": [
    "# extracting Hackney ratio 1998 - 2018\n",
    "mask = ratios_all_df['borough'] == 'Hackney'\n",
    "hackney_ratio = ratios_all_df[mask]['ratio'][10]\n",
    "hackney_ratio"
   ]
  },
  {
   "cell_type": "code",
   "execution_count": 44,
   "id": "c546c469",
   "metadata": {},
   "outputs": [
    {
     "data": {
      "text/plain": [
       "519.8285561008661"
      ]
     },
     "execution_count": 44,
     "metadata": {},
     "output_type": "execute_result"
    }
   ],
   "source": [
    "# percent increase of Hackney\n",
    "percent_increase = ((1-hackney_ratio)/(hackney_ratio))*100\n",
    "percent_increase"
   ]
  },
  {
   "cell_type": "markdown",
   "id": "7d70f15e",
   "metadata": {},
   "source": [
    "**The approx percent increase in average price from 1998 to 2018 for Hackney is 519.83%**\n",
    "\n",
    "we can also determine the lowest average price increase of borough Hounslow."
   ]
  },
  {
   "cell_type": "code",
   "execution_count": 45,
   "id": "cd6612e3",
   "metadata": {},
   "outputs": [
    {
     "data": {
      "text/plain": [
       "0.25148317824115635"
      ]
     },
     "execution_count": 45,
     "metadata": {},
     "output_type": "execute_result"
    }
   ],
   "source": [
    "# extracting Hunslow ratio 1998 - 2018\n",
    "mask = ratios_all_df['borough'] == 'Hounslow'\n",
    "hounslow_ratio = ratios_all_df[mask]['ratio'][16]\n",
    "hounslow_ratio"
   ]
  },
  {
   "cell_type": "code",
   "execution_count": 46,
   "id": "ec4c2657",
   "metadata": {},
   "outputs": [
    {
     "data": {
      "text/plain": [
       "297.6409106143329"
      ]
     },
     "execution_count": 46,
     "metadata": {},
     "output_type": "execute_result"
    }
   ],
   "source": [
    "# percent increase of Hounslow\n",
    "percent_increase = ((1-hounslow_ratio)/(hounslow_ratio))*100\n",
    "percent_increase"
   ]
  },
  {
   "cell_type": "markdown",
   "id": "0468b9d4",
   "metadata": {},
   "source": [
    "### References"
   ]
  },
  {
   "cell_type": "markdown",
   "id": "4bc07948",
   "metadata": {},
   "source": [
    "[1] specifying engine | read_excel(): https://stackoverflow.com/questions/67394705/open-excel-file-in-python-xlrderror-excel-xlsx-file-not-supported"
   ]
  },
  {
   "cell_type": "markdown",
   "id": "4a30485e",
   "metadata": {},
   "source": [
    "[2] list of london boroughs: https://en.wikipedia.org/wiki/List_of_London_boroughs"
   ]
  },
  {
   "cell_type": "markdown",
   "id": "cef1b1f0",
   "metadata": {},
   "source": [
    "[3] pd.melt(): https://pandas.pydata.org/docs/reference/api/pandas.melt.html"
   ]
  },
  {
   "cell_type": "markdown",
   "id": "6320c266",
   "metadata": {},
   "source": [
    "[4] pandas st.contains(): https://pandas.pydata.org/docs/reference/api/pandas.Series.str.contains.html "
   ]
  },
  {
   "cell_type": "markdown",
   "id": "ceba55bd",
   "metadata": {},
   "source": [
    "[5] timeseries dt.month: https://pandas.pydata.org/docs/reference/api/pandas.Series.dt.month.html"
   ]
  }
 ],
 "metadata": {
  "kernelspec": {
   "display_name": "Python 3",
   "language": "python",
   "name": "python3"
  },
  "language_info": {
   "codemirror_mode": {
    "name": "ipython",
    "version": 3
   },
   "file_extension": ".py",
   "mimetype": "text/x-python",
   "name": "python",
   "nbconvert_exporter": "python",
   "pygments_lexer": "ipython3",
   "version": "3.6.5"
  }
 },
 "nbformat": 4,
 "nbformat_minor": 5
}
